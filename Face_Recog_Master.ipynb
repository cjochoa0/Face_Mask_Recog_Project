{
 "cells": [
  {
   "cell_type": "code",
   "execution_count": 1,
   "id": "cf9fa1ac",
   "metadata": {},
   "outputs": [
    {
     "name": "stderr",
     "output_type": "stream",
     "text": [
      "C:\\Users\\Coope\\anaconda3\\envs\\Project_faceRec\\lib\\site-packages\\scipy\\__init__.py:146: UserWarning: A NumPy version >=1.16.5 and <1.23.0 is required for this version of SciPy (detected version 1.23.1\n",
      "  warnings.warn(f\"A NumPy version >={np_minversion} and <{np_maxversion}\"\n"
     ]
    }
   ],
   "source": [
    "import os\n",
    "import cv2\n",
    "import face_recognition\n",
    "from matplotlib import pyplot as plt\n",
    "from PIL import Image\n",
    "import numpy as np\n",
    "import imutils\n",
    "from imutils import paths\n",
    "import time\n",
    "import math\n",
    "import sys\n",
    "from threading import Timer\n",
    "import shutil\n",
    "import time\n",
    "#Tensor libraries for face/mask recognitions\n",
    "from tensorflow.keras.applications.mobilenet_v2 import preprocess_input\n",
    "from tensorflow.keras.preprocessing.image import img_to_array\n",
    "from tensorflow.keras.models import load_model\n",
    "from imutils.video import VideoStream\n",
    "\n",
    "\n",
    "#Tensor and etc libraries to train the models and datasets\n",
    "from tensorflow.keras.preprocessing.image import ImageDataGenerator\n",
    "from tensorflow.keras.applications import MobileNetV2\n",
    "from tensorflow.keras.layers import AveragePooling2D\n",
    "from tensorflow.keras.layers import Dropout\n",
    "from tensorflow.keras.layers import Flatten\n",
    "from tensorflow.keras.layers import Dense\n",
    "from tensorflow.keras.layers import Input\n",
    "from tensorflow.keras.models import Model\n",
    "from tensorflow.keras.optimizers import Adam\n",
    "from tensorflow.keras.applications.mobilenet_v2 import preprocess_input\n",
    "from tensorflow.keras.preprocessing.image import img_to_array\n",
    "from tensorflow.keras.preprocessing.image import load_img\n",
    "from tensorflow.keras.utils import to_categorical\n",
    "from sklearn.preprocessing import LabelBinarizer\n",
    "from sklearn.model_selection import train_test_split\n",
    "from sklearn.metrics import classification_report\n",
    "import argparse"
   ]
  },
  {
   "cell_type": "code",
   "execution_count": 2,
   "id": "6847f392",
   "metadata": {},
   "outputs": [
    {
     "data": {
      "text/plain": [
       "WindowsPath('C:/Users/Coope/Documents/FacerecoProject/Mask-Face-recog-Project')"
      ]
     },
     "execution_count": 2,
     "metadata": {},
     "output_type": "execute_result"
    }
   ],
   "source": [
    "from pathlib import Path\n",
    "\n",
    "cwd = Path().resolve()\n",
    "# cwd == PosixPath('/path/to/this/jupyter/ipynb/file's/directory/')\n",
    "cwd"
   ]
  },
  {
   "cell_type": "code",
   "execution_count": 35,
   "id": "7fda4e02",
   "metadata": {},
   "outputs": [],
   "source": [
    "#grabing dataset directory path\n",
    "#grabbing model directory path to save h5 model file\n",
    "dataset_path=os.getcwd()+\"/dataset\"\n",
    "model_path=os.getcwd()+\"/model/mask_model\""
   ]
  },
  {
   "cell_type": "code",
   "execution_count": 4,
   "id": "adfc674e",
   "metadata": {},
   "outputs": [],
   "source": [
    "# initialize the initial learning rate, number of epochs to train for,\n",
    "# and batch size\n",
    "INIT_LR = 1e-4\n",
    "EPOCHS = 20\n",
    "BS = 32"
   ]
  },
  {
   "cell_type": "code",
   "execution_count": 5,
   "id": "b39bd339",
   "metadata": {},
   "outputs": [
    {
     "name": "stdout",
     "output_type": "stream",
     "text": [
      "[INFO] loading images...\n"
     ]
    }
   ],
   "source": [
    "# grab the list of images in our dataset directory, then initialize\n",
    "# the list of data (i.e., images) and class images\n",
    "print(\"[INFO] loading images...\")\n",
    "imagePaths = list(paths.list_images(dataset_path))\n",
    "imagePaths = [imagePath.replace(\"\\\\\",\"//\",-1) for imagePath in imagePaths]\n",
    "data = []\n",
    "labels = []"
   ]
  },
  {
   "cell_type": "code",
   "execution_count": 6,
   "id": "11af3e69",
   "metadata": {},
   "outputs": [],
   "source": [
    "# loop over the image paths\n",
    "for imagePath in imagePaths:\n",
    "\t# extract the class label from the filename\n",
    "\tlabel = imagePath.split(\"//\")[-2]\n",
    "\n",
    "\t# load the input image (224x224) and preprocess it\n",
    "\timage = load_img(imagePath, target_size=(224, 224))\n",
    "\timage = img_to_array(image)\n",
    "\timage = preprocess_input(image)\n",
    "\n",
    "\t# update the data and labels lists, respectively\n",
    "\tdata.append(image)\n",
    "\tlabels.append(label)"
   ]
  },
  {
   "cell_type": "code",
   "execution_count": 7,
   "id": "1c841809",
   "metadata": {},
   "outputs": [],
   "source": [
    "# convert the data and labels to NumPy arrays\n",
    "data = np.array(data, dtype=\"float32\")\n",
    "labels = np.array(labels)"
   ]
  },
  {
   "cell_type": "code",
   "execution_count": 8,
   "id": "3832e01d",
   "metadata": {},
   "outputs": [],
   "source": [
    "# perform one-hot encoding on the labels\n",
    "lb = LabelBinarizer()\n",
    "labels = lb.fit_transform(labels)\n",
    "labels = to_categorical(labels)"
   ]
  },
  {
   "cell_type": "code",
   "execution_count": 9,
   "id": "c4292cc5",
   "metadata": {},
   "outputs": [],
   "source": [
    "# partition the data into training and testing splits using 75% of\n",
    "# the data for training and the remaining 25% for testing\n",
    "(trainX, testX, trainY, testY) = train_test_split(data, labels,test_size=0.25, stratify=labels, random_state=42)"
   ]
  },
  {
   "cell_type": "code",
   "execution_count": 10,
   "id": "6c323c94",
   "metadata": {},
   "outputs": [],
   "source": [
    "# construct the training image generator for data augmentation\n",
    "aug = ImageDataGenerator(\n",
    "\trotation_range=20,\n",
    "\tzoom_range=0.15,\n",
    "\twidth_shift_range=0.2,\n",
    "\theight_shift_range=0.2,\n",
    "\tshear_range=0.15,\n",
    "\thorizontal_flip=True,\n",
    "\tfill_mode=\"nearest\")"
   ]
  },
  {
   "cell_type": "code",
   "execution_count": 11,
   "id": "311b20e0",
   "metadata": {},
   "outputs": [
    {
     "name": "stdout",
     "output_type": "stream",
     "text": [
      "WARNING:tensorflow:`input_shape` is undefined or non-square, or `rows` is not in [96, 128, 160, 192, 224]. Weights for input shape (224, 224) will be loaded as the default.\n"
     ]
    }
   ],
   "source": [
    "# load the MobileNetV2 network, ensuring the head FC layer sets are\n",
    "# left off\n",
    "baseModel = MobileNetV2(weights=\"imagenet\", include_top=False,input_tensor=Input(shape=(224, 224, 3)))"
   ]
  },
  {
   "cell_type": "code",
   "execution_count": 12,
   "id": "d852222b",
   "metadata": {},
   "outputs": [],
   "source": [
    "# construct the head of the model that will be placed on top of the\n",
    "# the base model\n",
    "headModel = baseModel.output\n",
    "headModel = AveragePooling2D(pool_size=(7, 7))(headModel)\n",
    "headModel = Flatten(name=\"flatten\")(headModel)\n",
    "headModel = Dense(128, activation=\"relu\")(headModel)\n",
    "headModel = Dropout(0.5)(headModel)\n",
    "headModel = Dense(2, activation=\"softmax\")(headModel)"
   ]
  },
  {
   "cell_type": "code",
   "execution_count": 13,
   "id": "8c857997",
   "metadata": {},
   "outputs": [],
   "source": [
    "# place the head FC model on top of the base model (this will become\n",
    "# the actual model we will train)\n",
    "model = Model(inputs=baseModel.input, outputs=headModel)"
   ]
  },
  {
   "cell_type": "code",
   "execution_count": 14,
   "id": "5f18d37c",
   "metadata": {},
   "outputs": [],
   "source": [
    "# loop over all layers in the base model and freeze them so they will\n",
    "# *not* be updated during the first training process\n",
    "for layer in baseModel.layers:\n",
    "\tlayer.trainable = False"
   ]
  },
  {
   "cell_type": "code",
   "execution_count": 15,
   "id": "b7c8e73c",
   "metadata": {},
   "outputs": [
    {
     "name": "stdout",
     "output_type": "stream",
     "text": [
      "[INFO] compiling model...\n"
     ]
    },
    {
     "name": "stderr",
     "output_type": "stream",
     "text": [
      "C:\\Users\\Coope\\anaconda3\\envs\\Project_faceRec\\lib\\site-packages\\keras\\optimizers\\optimizer_v2\\adam.py:110: UserWarning: The `lr` argument is deprecated, use `learning_rate` instead.\n",
      "  super(Adam, self).__init__(name, **kwargs)\n"
     ]
    }
   ],
   "source": [
    "# compile our model\n",
    "print(\"[INFO] compiling model...\")\n",
    "opt = Adam(lr=INIT_LR, decay=INIT_LR / EPOCHS)\n",
    "model.compile(loss=\"binary_crossentropy\", optimizer=opt,\n",
    "\tmetrics=[\"accuracy\"])"
   ]
  },
  {
   "cell_type": "code",
   "execution_count": 16,
   "id": "22154921",
   "metadata": {},
   "outputs": [
    {
     "name": "stdout",
     "output_type": "stream",
     "text": [
      "[INFO] training head...\n",
      "Epoch 1/20\n",
      "57/57 [==============================] - 75s 1s/step - loss: 0.4041 - accuracy: 0.8434 - val_loss: 0.1383 - val_accuracy: 0.9918\n",
      "Epoch 2/20\n",
      "57/57 [==============================] - 66s 1s/step - loss: 0.1375 - accuracy: 0.9767 - val_loss: 0.0582 - val_accuracy: 0.9918\n",
      "Epoch 3/20\n",
      "57/57 [==============================] - 65s 1s/step - loss: 0.0680 - accuracy: 0.9895 - val_loss: 0.0390 - val_accuracy: 0.9951\n",
      "Epoch 4/20\n",
      "57/57 [==============================] - 66s 1s/step - loss: 0.0515 - accuracy: 0.9911 - val_loss: 0.0286 - val_accuracy: 0.9951\n",
      "Epoch 5/20\n",
      "57/57 [==============================] - 67s 1s/step - loss: 0.0409 - accuracy: 0.9933 - val_loss: 0.0245 - val_accuracy: 0.9951\n",
      "Epoch 6/20\n",
      "57/57 [==============================] - 66s 1s/step - loss: 0.0304 - accuracy: 0.9950 - val_loss: 0.0212 - val_accuracy: 0.9951\n",
      "Epoch 7/20\n",
      "57/57 [==============================] - 66s 1s/step - loss: 0.0273 - accuracy: 0.9956 - val_loss: 0.0205 - val_accuracy: 0.9951\n",
      "Epoch 8/20\n",
      "57/57 [==============================] - 66s 1s/step - loss: 0.0259 - accuracy: 0.9922 - val_loss: 0.0161 - val_accuracy: 0.9951\n",
      "Epoch 9/20\n",
      "57/57 [==============================] - 65s 1s/step - loss: 0.0177 - accuracy: 0.9983 - val_loss: 0.0148 - val_accuracy: 0.9935\n",
      "Epoch 10/20\n",
      "57/57 [==============================] - 66s 1s/step - loss: 0.0164 - accuracy: 0.9961 - val_loss: 0.0154 - val_accuracy: 0.9951\n",
      "Epoch 11/20\n",
      "57/57 [==============================] - 65s 1s/step - loss: 0.0137 - accuracy: 0.9983 - val_loss: 0.0133 - val_accuracy: 0.9951\n",
      "Epoch 12/20\n",
      "57/57 [==============================] - 65s 1s/step - loss: 0.0140 - accuracy: 0.9983 - val_loss: 0.0129 - val_accuracy: 0.9935\n",
      "Epoch 13/20\n",
      "57/57 [==============================] - 65s 1s/step - loss: 0.0159 - accuracy: 0.9972 - val_loss: 0.0163 - val_accuracy: 0.9951\n",
      "Epoch 14/20\n",
      "57/57 [==============================] - 66s 1s/step - loss: 0.0178 - accuracy: 0.9967 - val_loss: 0.0148 - val_accuracy: 0.9951\n",
      "Epoch 15/20\n",
      "57/57 [==============================] - 65s 1s/step - loss: 0.0116 - accuracy: 0.9983 - val_loss: 0.0137 - val_accuracy: 0.9951\n",
      "Epoch 16/20\n",
      "57/57 [==============================] - 65s 1s/step - loss: 0.0105 - accuracy: 0.9978 - val_loss: 0.0130 - val_accuracy: 0.9951\n",
      "Epoch 17/20\n",
      "57/57 [==============================] - 66s 1s/step - loss: 0.0086 - accuracy: 0.9994 - val_loss: 0.0123 - val_accuracy: 0.9951\n",
      "Epoch 18/20\n",
      "57/57 [==============================] - 66s 1s/step - loss: 0.0064 - accuracy: 0.9994 - val_loss: 0.0124 - val_accuracy: 0.9951\n",
      "Epoch 19/20\n",
      "57/57 [==============================] - 66s 1s/step - loss: 0.0079 - accuracy: 0.9983 - val_loss: 0.0103 - val_accuracy: 0.9935\n",
      "Epoch 20/20\n",
      "57/57 [==============================] - 65s 1s/step - loss: 0.0094 - accuracy: 0.9972 - val_loss: 0.0098 - val_accuracy: 0.9935\n"
     ]
    }
   ],
   "source": [
    "# train the head of the network\n",
    "print(\"[INFO] training head...\")\n",
    "H = model.fit(\n",
    "\taug.flow(trainX, trainY, batch_size=BS),\n",
    "\tsteps_per_epoch=len(trainX) // BS,\n",
    "\tvalidation_data=(testX, testY),\n",
    "\tvalidation_steps=len(testX) // BS,\n",
    "\tepochs=EPOCHS)"
   ]
  },
  {
   "cell_type": "code",
   "execution_count": 17,
   "id": "a9d2c488",
   "metadata": {},
   "outputs": [
    {
     "name": "stdout",
     "output_type": "stream",
     "text": [
      "[INFO] evaluating network...\n",
      "20/20 [==============================] - 12s 479ms/step\n"
     ]
    }
   ],
   "source": [
    "# make predictions on the testing set\n",
    "print(\"[INFO] evaluating network...\")\n",
    "predIdxs = model.predict(testX, batch_size=BS)"
   ]
  },
  {
   "cell_type": "code",
   "execution_count": 18,
   "id": "0a1ca21c",
   "metadata": {},
   "outputs": [],
   "source": [
    "# for each image in the testing set we need to find the index of the\n",
    "# label with corresponding largest predicted probability\n",
    "predIdxs = np.argmax(predIdxs, axis=1)"
   ]
  },
  {
   "cell_type": "code",
   "execution_count": 19,
   "id": "9f67ce3f",
   "metadata": {},
   "outputs": [
    {
     "name": "stdout",
     "output_type": "stream",
     "text": [
      "              precision    recall  f1-score   support\n",
      "\n",
      "   with_mask       1.00      1.00      1.00       439\n",
      "without_mask       0.99      0.99      0.99       172\n",
      "\n",
      "    accuracy                           0.99       611\n",
      "   macro avg       0.99      0.99      0.99       611\n",
      "weighted avg       0.99      0.99      0.99       611\n",
      "\n"
     ]
    }
   ],
   "source": [
    "# show a nicely formatted classification report\n",
    "print(classification_report(testY.argmax(axis=1), predIdxs,\n",
    "\ttarget_names=lb.classes_))"
   ]
  },
  {
   "cell_type": "code",
   "execution_count": 36,
   "id": "5a9cb240",
   "metadata": {},
   "outputs": [
    {
     "name": "stdout",
     "output_type": "stream",
     "text": [
      "[INFO] saving mask detector model...\n"
     ]
    }
   ],
   "source": [
    "# serialize the model to disk\n",
    "print(\"[INFO] saving mask detector model...\")\n",
    "model.save(model_path+\".h5\")"
   ]
  },
  {
   "cell_type": "code",
   "execution_count": 37,
   "id": "aa7a09e4",
   "metadata": {},
   "outputs": [
    {
     "data": {
      "text/plain": [
       "<matplotlib.legend.Legend at 0x1a0b35238b0>"
      ]
     },
     "execution_count": 37,
     "metadata": {},
     "output_type": "execute_result"
    },
    {
     "data": {
      "image/png": "[encoded data removed]",
      "text/plain": [
       "<Figure size 640x480 with 1 Axes>"
      ]
     },
     "metadata": {},
     "output_type": "display_data"
    }
   ],
   "source": [
    "# plot the training loss and accuracy\n",
    "N = EPOCHS\n",
    "plt.style.use(\"ggplot\")\n",
    "plt.figure()\n",
    "plt.plot(np.arange(0, N), H.history[\"loss\"], label=\"train_loss\")\n",
    "plt.plot(np.arange(0, N), H.history[\"val_loss\"], label=\"val_loss\")\n",
    "plt.plot(np.arange(0, N), H.history[\"accuracy\"], label=\"train_acc\")\n",
    "plt.plot(np.arange(0, N), H.history[\"val_accuracy\"], label=\"val_acc\")\n",
    "plt.title(\"Training Loss and Accuracy\")\n",
    "plt.xlabel(\"Epoch #\")\n",
    "plt.ylabel(\"Loss/Accuracy\")\n",
    "plt.legend(loc=\"lower left\")"
   ]
  },
  {
   "cell_type": "code",
   "execution_count": 21,
   "id": "67768821",
   "metadata": {},
   "outputs": [],
   "source": [
    "#The Start of the Facial Recognition Application\n",
    "img_path = str(cwd) + \"//Recog_Train\""
   ]
  },
  {
   "cell_type": "code",
   "execution_count": 22,
   "id": "e7739f26",
   "metadata": {},
   "outputs": [],
   "source": [
    "images = []\n",
    "class_names = []\n",
    "encode_list = []\n",
    "encode_list_cl = []\n",
    "myList = os.listdir(img_path)"
   ]
  },
  {
   "cell_type": "code",
   "execution_count": 23,
   "id": "7cff6aa4",
   "metadata": {},
   "outputs": [],
   "source": [
    "for subdir in os.listdir(img_path):\n",
    "    path = img_path + '/' + subdir\n",
    "    path = path + '/'\n",
    "    for img in os.listdir(path):\n",
    "        img_pic = path + img\n",
    "        class_names.append(subdir)\n",
    "        cur_img = cv2.imread(img_pic)\n",
    "        cur_img = cv2.cvtColor(cur_img , cv2.COLOR_BGR2RGB)\n",
    "        images.append(cur_img)"
   ]
  },
  {
   "cell_type": "code",
   "execution_count": 24,
   "id": "1a12ab7c",
   "metadata": {},
   "outputs": [],
   "source": [
    "def detect_and_predict_mask(frame, faceNet, maskNet,threshold):\n",
    "\t# grab the dimensions of the frame and then construct a blob\n",
    "\t# from it\n",
    "\tglobal detections \n",
    "\t(h, w) = frame.shape[:2]\n",
    "\tblob = cv2.dnn.blobFromImage(frame, 1.0, (300, 300),(104.0, 177.0, 123.0))\n",
    "\t# pass the blob through the network and obtain the face detections\n",
    "\tfaceNet.setInput(blob)\n",
    "\tdetections = faceNet.forward()\n",
    "\n",
    "\t# initialize our list of faces, their corresponding locations,\n",
    "\t# and the list of predictions from our face mask network\n",
    "\tfaces = []\n",
    "\tlocs = []\n",
    "\tpreds = []\n",
    "\t# loop over the detections\n",
    "\tfor i in range(0, detections.shape[2]):\n",
    "\t\t# extract the confidence (i.e., probability) associated with\n",
    "\t\tconfidence = detections[0, 0, i, 2]\n",
    "\n",
    "\t\t# filter out weak detections by ensuring the confidence is\n",
    "\t\t# greater than the minimum confidence\n",
    "\t\tif confidence >threshold:\n",
    "\t\t\t# compute the (x, y)-coordinates of the bounding box for\n",
    "\t\t\t# the object\n",
    "\t\t\tbox = detections[0, 0, i, 3:7] * np.array([w, h, w, h])\n",
    "\t\t\t(startX, startY, endX, endY) = box.astype(\"int\")\n",
    "\n",
    "\t\t\t# ensure the bounding boxes fall within the dimensions of\n",
    "\t\t\t# the frame\n",
    "\t\t\t(startX, startY) = (max(0, startX), max(0, startY))\n",
    "\t\t\t(endX, endY) = (min(w - 1, endX), min(h - 1, endY))\n",
    "\n",
    "\t\t\t# extract the face ROI, convert it from BGR to RGB channel\n",
    "\t\t\t# ordering, resize it to 224x224, and preprocess it\n",
    "\t\t\tface = frame[startY:endY, startX:endX]\n",
    "\t\t\tface = cv2.cvtColor(face, cv2.COLOR_BGR2RGB)\n",
    "\t\t\tface = cv2.resize(face, (224, 224))\n",
    "\t\t\tface = img_to_array(face)\n",
    "\t\t\tface = preprocess_input(face)\n",
    "\t\t\tface = np.expand_dims(face, axis=0)\n",
    "            \n",
    "\t\t\t# add the face and bounding boxes to their respective\n",
    "\t\t\t# lists\n",
    "\t\t\tlocs.append((startX, startY, endX, endY))\n",
    "\t\t\t#print(maskNet.predict(face)[0].tolist())\n",
    "\t\t\tpreds.append(maskNet.predict(face)[0].tolist())\n",
    "\treturn (locs, preds)"
   ]
  },
  {
   "cell_type": "code",
   "execution_count": 34,
   "id": "4abf98e6",
   "metadata": {},
   "outputs": [],
   "source": [
    "# SETTINGS\n",
    "MASK_MODEL_PATH=os.getcwd()+\"\\\\model\\\\mask_model.h5\"\n",
    "FACE_MODEL_PATH=str(cwd)+\"\\\\masksdetection-master\\\\face_detector\"\n",
    "SOUND_PATH=str(cwd)+\"\\\\masksdetection-master\\\\face_detector\"\n",
    "THRESHOLD = 0.5"
   ]
  },
  {
   "cell_type": "code",
   "execution_count": 26,
   "id": "28419235",
   "metadata": {},
   "outputs": [],
   "source": [
    "# Load Sounds\n",
    "from os.path import dirname, join"
   ]
  },
  {
   "cell_type": "code",
   "execution_count": 27,
   "id": "a4822a11",
   "metadata": {},
   "outputs": [
    {
     "data": {
      "text/plain": [
       "'C:\\\\Users\\\\Coope\\\\Documents\\\\FacerecoProject\\\\Mask-Face-recog-Project'"
      ]
     },
     "execution_count": 27,
     "metadata": {},
     "output_type": "execute_result"
    }
   ],
   "source": [
    "current_folder = globals()['_dh'][0]\n",
    "current_folder"
   ]
  },
  {
   "cell_type": "code",
   "execution_count": 28,
   "id": "76c1d53c",
   "metadata": {},
   "outputs": [],
   "source": [
    "protoPath = join(current_folder, \"deploy.prototxt\")\n",
    "weightsPath = join(current_folder, \"res10_300x300_ssd_iter_140000.caffemodel\")"
   ]
  },
  {
   "cell_type": "code",
   "execution_count": 39,
   "id": "a36634c0",
   "metadata": {},
   "outputs": [
    {
     "name": "stdout",
     "output_type": "stream",
     "text": [
      "[INFO] loading face detector model...\n",
      "[INFO] loading face mask detector model...\n"
     ]
    }
   ],
   "source": [
    "# load our serialized face detector model from disk\n",
    "print(\"[INFO] loading face detector model...\")\n",
    "faceNet = cv2.dnn.readNet(protoPath, weightsPath)\n",
    "\n",
    "# load the face mask detector model from disk\n",
    "print(\"[INFO] loading face mask detector model...\")\n",
    "maskNet = load_model(MASK_MODEL_PATH)"
   ]
  },
  {
   "cell_type": "code",
   "execution_count": 40,
   "id": "4ab58c40",
   "metadata": {},
   "outputs": [
    {
     "name": "stdout",
     "output_type": "stream",
     "text": [
      "[INFO] starting video stream...\n"
     ]
    }
   ],
   "source": [
    "# initialize the video stream and allow the camera sensor to warm up\n",
    "print(\"[INFO] starting video stream...\")\n",
    "vs = VideoStream(0).start()\n",
    "time.sleep(2.0)\n",
    "        \n",
    "def find_encodings(images) :\n",
    "        for img in images : \n",
    "            encodings = face_recognition.face_encodings(img)[0]\n",
    "            encode_list.append(encodings)\n",
    "       \n",
    "        return encode_list\n",
    "    \n",
    "encodeListKnown = find_encodings(images)\n",
    " \n",
    "cap = cv2.VideoCapture(0)"
   ]
  },
  {
   "cell_type": "code",
   "execution_count": null,
   "id": "5e914446",
   "metadata": {},
   "outputs": [
    {
     "name": "stdout",
     "output_type": "stream",
     "text": [
      "1/1 [==============================] - 2s 2s/step\n",
      "1/1 [==============================] - 0s 72ms/step\n",
      "1/1 [==============================] - 0s 48ms/step\n",
      "1/1 [==============================] - 0s 47ms/step\n",
      "1/1 [==============================] - 0s 58ms/step\n",
      "1/1 [==============================] - 0s 55ms/step\n",
      "1/1 [==============================] - 0s 49ms/step\n",
      "1/1 [==============================] - 0s 129ms/step\n",
      "1/1 [==============================] - 0s 72ms/step\n",
      "1/1 [==============================] - 0s 48ms/step\n",
      "1/1 [==============================] - 0s 48ms/step\n",
      "1/1 [==============================] - 0s 50ms/step\n",
      "1/1 [==============================] - 0s 57ms/step\n",
      "1/1 [==============================] - 0s 46ms/step\n",
      "1/1 [==============================] - 0s 52ms/step\n",
      "1/1 [==============================] - 0s 48ms/step\n",
      "1/1 [==============================] - 0s 49ms/step\n",
      "1/1 [==============================] - 0s 56ms/step\n",
      "1/1 [==============================] - 0s 56ms/step\n",
      "1/1 [==============================] - 0s 57ms/step\n",
      "1/1 [==============================] - 0s 49ms/step\n",
      "1/1 [==============================] - 0s 48ms/step\n",
      "1/1 [==============================] - 0s 48ms/step\n",
      "1/1 [==============================] - 0s 66ms/step\n",
      "1/1 [==============================] - 0s 46ms/step\n",
      "1/1 [==============================] - 0s 72ms/step\n",
      "1/1 [==============================] - 0s 79ms/step\n",
      "1/1 [==============================] - 0s 49ms/step\n",
      "1/1 [==============================] - 0s 49ms/step\n",
      "1/1 [==============================] - 0s 47ms/step\n",
      "1/1 [==============================] - 0s 48ms/step\n",
      "1/1 [==============================] - 0s 41ms/step\n",
      "1/1 [==============================] - 0s 48ms/step\n",
      "1/1 [==============================] - 0s 48ms/step\n",
      "1/1 [==============================] - 0s 48ms/step\n",
      "1/1 [==============================] - 0s 82ms/step\n",
      "1/1 [==============================] - 0s 65ms/step\n",
      "1/1 [==============================] - 0s 63ms/step\n",
      "1/1 [==============================] - 0s 50ms/step\n",
      "1/1 [==============================] - 0s 49ms/step\n",
      "1/1 [==============================] - 0s 48ms/step\n",
      "1/1 [==============================] - 0s 63ms/step\n",
      "1/1 [==============================] - 0s 49ms/step\n",
      "1/1 [==============================] - 0s 49ms/step\n",
      "1/1 [==============================] - 0s 49ms/step\n",
      "1/1 [==============================] - 0s 48ms/step\n",
      "1/1 [==============================] - 0s 47ms/step\n",
      "1/1 [==============================] - 0s 48ms/step\n",
      "1/1 [==============================] - 0s 47ms/step\n",
      "1/1 [==============================] - 0s 47ms/step\n",
      "1/1 [==============================] - 0s 56ms/step\n",
      "1/1 [==============================] - 0s 149ms/step\n",
      "1/1 [==============================] - 0s 58ms/step\n",
      "1/1 [==============================] - 0s 65ms/step\n",
      "1/1 [==============================] - 0s 45ms/step\n",
      "1/1 [==============================] - 0s 44ms/step\n",
      "1/1 [==============================] - 0s 48ms/step\n",
      "1/1 [==============================] - 0s 48ms/step\n",
      "1/1 [==============================] - 0s 45ms/step\n",
      "1/1 [==============================] - 0s 58ms/step\n",
      "1/1 [==============================] - 0s 48ms/step\n",
      "1/1 [==============================] - 0s 44ms/step\n",
      "1/1 [==============================] - 0s 48ms/step\n"
     ]
    }
   ],
   "source": [
    "while True : \n",
    "    success , img = cap.read()\n",
    "    imgs = cv2.resize(img,(0,0),None,0.25,0.25)\n",
    "    imgs = cv2.cvtColor(imgs , cv2.COLOR_BGR2RGB)\n",
    "    (locs, preds) = detect_and_predict_mask(imgs, faceNet, maskNet,THRESHOLD)\n",
    "    facesCurFrame = face_recognition.face_locations(imgs)\n",
    "    encodeCurFrame  = face_recognition.face_encodings(imgs,facesCurFrame)\n",
    "    \n",
    "    for encodeFace , faceLoc , pred in zip(encodeCurFrame,facesCurFrame ,preds):\n",
    "        (mask, withoutMask) = pred\n",
    "        label = \"Mask\" if mask > withoutMask else \"No Mask\"\n",
    "        color = (0, 255, 0) if label == \"Mask\" else (0, 0, 255)\n",
    "        label = \"{}: {:.2f}%\".format(label, max(mask, withoutMask) * 100)\n",
    "\n",
    "        matches = face_recognition.compare_faces(encode_list, encodeFace)\n",
    "        faceDis = face_recognition.face_distance(encode_list, encodeFace)\n",
    "        matchIndex = np.argmin(faceDis)\n",
    "        name = class_names[matchIndex]\n",
    "        color = (0, 255, 0) if label == \"Mask\" else (0, 0, 255)\n",
    " \n",
    "        y1,x2,y2,x1 = faceLoc\n",
    "        y1,x2,y2,x1 = y1*4 , x2*4 , y2*4 , x1*4\n",
    "        cv2.rectangle(img,(x1,y1),(x2,y2),color,2)\n",
    "        cv2.rectangle(img,(x1,y2-35),(x2,y2),color, cv2.FILLED)\n",
    "        cv2.putText(img, name, (x1+6 , y2 - 6),cv2.FONT_HERSHEY_COMPLEX,1,(255,255,255),2 )\n",
    "        cv2.putText(img, label, (x1 , y2+10) , cv2.FONT_HERSHEY_COMPLEX , 1 , (255,0,255) , 2)\n",
    "        \n",
    "        cv2.imshow('Project' , img)\n",
    "        \n",
    "        key = cv2.waitKey(1) & 0xFF\n",
    "        \n",
    "        if key == ord(\"q\"):\n",
    "            break\n",
    "        \n",
    "cv2.destroyAllWindows()\n",
    "vs.stop()"
   ]
  }
 ],
 "metadata": {
  "kernelspec": {
   "display_name": "Python 3 (ipykernel)",
   "language": "python",
   "name": "python3"
  },
  "language_info": {
   "codemirror_mode": {
    "name": "ipython",
    "version": 3
   },
   "file_extension": ".py",
   "mimetype": "text/x-python",
   "name": "python",
   "nbconvert_exporter": "python",
   "pygments_lexer": "ipython3",
   "version": "3.9.13"
  }
 },
 "nbformat": 4,
 "nbformat_minor": 5
}
