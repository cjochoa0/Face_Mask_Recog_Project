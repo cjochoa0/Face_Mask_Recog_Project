{
 "cells": [
  {
   "cell_type": "code",
   "execution_count": 1,
   "id": "cf9fa1ac",
   "metadata": {},
   "outputs": [],
   "source": [
    "import os\n",
    "import pandas as pd\n",
    "import cv2\n",
    "import face_recognition\n",
    "from matplotlib import pyplot as plt\n",
    "from PIL import Image\n",
    "import numpy as np\n",
    "import imutils\n",
    "from imutils import paths\n",
    "import time\n",
    "import math\n",
    "import sys\n",
    "from threading import Timer\n",
    "import shutil\n",
    "import time\n",
    "import seaborn as sns\n",
    "#Tensor libraries for face/mask recognitions\n",
    "from tensorflow.keras.applications.mobilenet_v2 import preprocess_input\n",
    "from tensorflow.keras.preprocessing.image import img_to_array\n",
    "from tensorflow.keras.models import load_model\n",
    "from imutils.video import VideoStream\n",
    "\n",
    "\n",
    "#Tensor and etc libraries to train the models and datasets\n",
    "from tensorflow.keras.preprocessing.image import ImageDataGenerator\n",
    "from tensorflow.keras.applications import MobileNetV2, VGG19, ResNet50, InceptionV3, MobileNet, DenseNet201\n",
    "from tensorflow.keras.layers import AveragePooling2D\n",
    "from tensorflow.keras.layers import Dropout\n",
    "from tensorflow.keras.layers import Flatten\n",
    "from tensorflow.keras.layers import Dense\n",
    "from tensorflow.keras.layers import Input\n",
    "from tensorflow.keras.models import Model\n",
    "from tensorflow.keras.optimizers import Adam\n",
    "from tensorflow.keras.applications.mobilenet_v2 import preprocess_input\n",
    "from tensorflow.keras.preprocessing.image import img_to_array\n",
    "from tensorflow.keras.preprocessing.image import load_img\n",
    "from tensorflow.keras.utils import to_categorical\n",
    "from tensorflow.keras.callbacks import EarlyStopping\n",
    "from sklearn.preprocessing import LabelBinarizer\n",
    "from sklearn.model_selection import train_test_split\n",
    "from sklearn.metrics import classification_report\n",
    "import argparse"
   ]
  },
  {
   "cell_type": "code",
   "execution_count": 16,
   "id": "6847f392",
   "metadata": {},
   "outputs": [
    {
     "data": {
      "text/plain": [
       "WindowsPath('C:/Users/alrab/OneDrive/Documents/GitHub/Face_Mask_Recog_Project')"
      ]
     },
     "execution_count": 16,
     "metadata": {},
     "output_type": "execute_result"
    }
   ],
   "source": [
    "from pathlib import Path\n",
    "\n",
    "cwd = Path().resolve()\n",
    "# cwd == PosixPath('/path/to/this/jupyter/ipynb/file's/directory/')\n",
    "cwd"
   ]
  },
  {
   "cell_type": "code",
   "execution_count": 2,
   "id": "7fda4e02",
   "metadata": {},
   "outputs": [],
   "source": [
    "#grabing dataset directory path\n",
    "#grabbing model directory path to save h5 model file\n",
    "dataset_path=os.getcwd()+\"/dataset\"\n",
    "model_path=os.getcwd()+\"/model/mask_model\""
   ]
  },
  {
   "cell_type": "code",
   "execution_count": 3,
   "id": "adfc674e",
   "metadata": {},
   "outputs": [],
   "source": [
    "# initialize the initial learning rate, number of epochs to train for,\n",
    "# and batch size\n",
    "INIT_LR = 1e-4\n",
    "EPOCHS = 20\n",
    "BS = 59"
   ]
  },
  {
   "cell_type": "code",
   "execution_count": 4,
   "id": "b39bd339",
   "metadata": {},
   "outputs": [
    {
     "name": "stdout",
     "output_type": "stream",
     "text": [
      "[INFO] loading images...\n"
     ]
    }
   ],
   "source": [
    "# grab the list of images in our dataset directory, then initialize\n",
    "# the list of data (i.e., images) and class images (With / Without Mask)\n",
    "print(\"[INFO] loading images...\")\n",
    "imagePaths = list(paths.list_images(dataset_path))\n",
    "imagePaths = [imagePath.replace(\"\\\\\",\"//\",-1) for imagePath in imagePaths]\n",
    "data = []\n",
    "labels = []"
   ]
  },
  {
   "cell_type": "code",
   "execution_count": 5,
   "id": "11af3e69",
   "metadata": {},
   "outputs": [
    {
     "name": "stderr",
     "output_type": "stream",
     "text": [
      "C:\\Users\\alrab\\anaconda3\\envs\\Face_recognition\\lib\\site-packages\\PIL\\Image.py:959: UserWarning: Palette images with Transparency expressed in bytes should be converted to RGBA images\n",
      "  warnings.warn(\n"
     ]
    }
   ],
   "source": [
    "# loop over the image paths\n",
    "for imagePath in imagePaths:\n",
    "\t# extract the class label from the filename\n",
    "\tlabel = imagePath.split(\"//\")[-2]\n",
    "\n",
    "\t# load the input image (224x224) and preprocess it\n",
    "\timage = load_img(imagePath, target_size=(224, 224))\n",
    "\timage = img_to_array(image)\n",
    "\timage = preprocess_input(image)\n",
    "\n",
    "\t# update the data and labels lists, respectively\n",
    "\tdata.append(image)\n",
    "\tlabels.append(label)"
   ]
  },
  {
   "cell_type": "code",
   "execution_count": 6,
   "id": "1c841809",
   "metadata": {},
   "outputs": [],
   "source": [
    "# convert the data and labels to NumPy arrays\n",
    "data = np.array(data, dtype=\"float32\")\n",
    "labels = np.array(labels)"
   ]
  },
  {
   "cell_type": "code",
   "execution_count": 7,
   "id": "3832e01d",
   "metadata": {},
   "outputs": [],
   "source": [
    "# perform one-hot encoding on the labels\n",
    "# Converting text labels to readable data to the machine \n",
    "lb = LabelBinarizer()\n",
    "labels = lb.fit_transform(labels)\n",
    "labels = to_categorical(labels)"
   ]
  },
  {
   "cell_type": "code",
   "execution_count": 8,
   "id": "c4292cc5",
   "metadata": {},
   "outputs": [],
   "source": [
    "# partition the data into training and testing splits using 75% of\n",
    "# the data for training and the remaining 25% for testing\n",
    "(trainX, testX, trainY, testY) = train_test_split(data, labels,test_size=0.25, stratify=labels, random_state=42)"
   ]
  },
  {
   "cell_type": "code",
   "execution_count": 9,
   "id": "6c323c94",
   "metadata": {},
   "outputs": [],
   "source": [
    "# construct the training image generator for data augmentation via the ImageDataGenerator class\n",
    "# modefying the size of the training dataset to fit the model\n",
    "aug = ImageDataGenerator(\n",
    "\trotation_range=20,\n",
    "\tzoom_range=0.15,\n",
    "\twidth_shift_range=0.2,\n",
    "\theight_shift_range=0.2,\n",
    "\tshear_range=0.15,\n",
    "\thorizontal_flip=True,\n",
    "\tfill_mode=\"nearest\")"
   ]
  },
  {
   "cell_type": "code",
   "execution_count": 10,
   "id": "311b20e0",
   "metadata": {},
   "outputs": [
    {
     "name": "stdout",
     "output_type": "stream",
     "text": [
      "WARNING:tensorflow:`input_shape` is undefined or non-square, or `rows` is not in [96, 128, 160, 192, 224]. Weights for input shape (224, 224) will be loaded as the default.\n"
     ]
    }
   ],
   "source": [
    "# load the MobileNetV2 network, ensuring the head Fully connected layer sets are\n",
    "# left off\n",
    "baseModel = MobileNetV2(weights=\"imagenet\", include_top=False,input_tensor=Input(shape=(224, 224, 3)))"
   ]
  },
  {
   "cell_type": "code",
   "execution_count": 11,
   "id": "d852222b",
   "metadata": {},
   "outputs": [],
   "source": [
    "# construct the head of the model that will be placed on top of the\n",
    "# the base model\n",
    "headModel = baseModel.output\n",
    "headModel = AveragePooling2D(pool_size=(7, 7))(headModel)\n",
    "headModel = Flatten(name=\"flatten\")(headModel)\n",
    "headModel = Dense(128, activation=\"relu\")(headModel)\n",
    "headModel = Dropout(0.5)(headModel)\n",
    "headModel = Dense(2, activation=\"softmax\")(headModel)"
   ]
  },
  {
   "cell_type": "code",
   "execution_count": 12,
   "id": "8c857997",
   "metadata": {},
   "outputs": [],
   "source": [
    "# place the head FC model on top of the base model (this will become\n",
    "# the actual model we will train)\n",
    "model = Model(inputs=baseModel.input, outputs=headModel)"
   ]
  },
  {
   "cell_type": "code",
   "execution_count": 13,
   "id": "5f18d37c",
   "metadata": {},
   "outputs": [],
   "source": [
    "# loop over all layers in the base model and freeze them so they will\n",
    "# *not* be updated during the first training process\n",
    "for layer in baseModel.layers:\n",
    "\tlayer.trainable = False"
   ]
  },
  {
   "cell_type": "code",
   "execution_count": 14,
   "id": "b7c8e73c",
   "metadata": {},
   "outputs": [
    {
     "name": "stdout",
     "output_type": "stream",
     "text": [
      "[INFO] compiling model...\n"
     ]
    }
   ],
   "source": [
    "# compile our model\n",
    "print(\"[INFO] compiling model...\")\n",
    "opt = Adam(learning_rate=INIT_LR, decay=INIT_LR / EPOCHS)\n",
    "model.compile(loss=\"binary_crossentropy\", optimizer=opt, metrics=[\"accuracy\"])"
   ]
  },
  {
   "cell_type": "code",
   "execution_count": 15,
   "id": "22154921",
   "metadata": {
    "scrolled": true
   },
   "outputs": [
    {
     "name": "stdout",
     "output_type": "stream",
     "text": [
      "[INFO] training head...\n",
      "Epoch 1/20\n",
      "96/96 [==============================] - 280s 3s/step - loss: 0.3582 - accuracy: 0.8826 - val_loss: 0.1316 - val_accuracy: 0.9704\n",
      "Epoch 2/20\n",
      "96/96 [==============================] - 252s 3s/step - loss: 0.1263 - accuracy: 0.9689 - val_loss: 0.0813 - val_accuracy: 0.9735\n",
      "Epoch 3/20\n",
      "96/96 [==============================] - 259s 3s/step - loss: 0.0912 - accuracy: 0.9756 - val_loss: 0.0652 - val_accuracy: 0.9778\n",
      "Epoch 4/20\n",
      "96/96 [==============================] - 262s 3s/step - loss: 0.0674 - accuracy: 0.9804 - val_loss: 0.0563 - val_accuracy: 0.9783\n",
      "Epoch 5/20\n",
      "96/96 [==============================] - 257s 3s/step - loss: 0.0637 - accuracy: 0.9811 - val_loss: 0.0520 - val_accuracy: 0.9804\n",
      "Epoch 6/20\n",
      "96/96 [==============================] - 261s 3s/step - loss: 0.0559 - accuracy: 0.9836 - val_loss: 0.0485 - val_accuracy: 0.9815\n",
      "Epoch 7/20\n",
      "96/96 [==============================] - 242s 3s/step - loss: 0.0516 - accuracy: 0.9862 - val_loss: 0.0448 - val_accuracy: 0.9820\n",
      "Epoch 8/20\n",
      "96/96 [==============================] - 200s 2s/step - loss: 0.0463 - accuracy: 0.9864 - val_loss: 0.0461 - val_accuracy: 0.9846\n",
      "Epoch 9/20\n",
      "96/96 [==============================] - 218s 2s/step - loss: 0.0444 - accuracy: 0.9869 - val_loss: 0.0438 - val_accuracy: 0.9846\n",
      "Epoch 10/20\n",
      "96/96 [==============================] - 227s 2s/step - loss: 0.0428 - accuracy: 0.9876 - val_loss: 0.0428 - val_accuracy: 0.9852\n",
      "Epoch 11/20\n",
      "96/96 [==============================] - 226s 2s/step - loss: 0.0405 - accuracy: 0.9864 - val_loss: 0.0441 - val_accuracy: 0.9836\n",
      "Epoch 12/20\n",
      "96/96 [==============================] - 231s 2s/step - loss: 0.0391 - accuracy: 0.9869 - val_loss: 0.0417 - val_accuracy: 0.9862\n",
      "Epoch 13/20\n",
      "96/96 [==============================] - 225s 2s/step - loss: 0.0366 - accuracy: 0.9889 - val_loss: 0.0400 - val_accuracy: 0.9857\n",
      "Epoch 14/20\n",
      "96/96 [==============================] - 216s 2s/step - loss: 0.0377 - accuracy: 0.9862 - val_loss: 0.0385 - val_accuracy: 0.9873\n",
      "Epoch 15/20\n",
      "96/96 [==============================] - 221s 2s/step - loss: 0.0365 - accuracy: 0.9887 - val_loss: 0.0427 - val_accuracy: 0.9852\n",
      "Epoch 16/20\n",
      "96/96 [==============================] - 207s 2s/step - loss: 0.0332 - accuracy: 0.9901 - val_loss: 0.0389 - val_accuracy: 0.9862\n",
      "Epoch 17/20\n",
      "96/96 [==============================] - 215s 2s/step - loss: 0.0344 - accuracy: 0.9887 - val_loss: 0.0394 - val_accuracy: 0.9868\n",
      "Epoch 18/20\n",
      "96/96 [==============================] - 215s 2s/step - loss: 0.0307 - accuracy: 0.9901 - val_loss: 0.0415 - val_accuracy: 0.9878\n",
      "Epoch 19/20\n",
      "96/96 [==============================] - 210s 2s/step - loss: 0.0313 - accuracy: 0.9912 - val_loss: 0.0349 - val_accuracy: 0.9899\n",
      "Epoch 20/20\n",
      "96/96 [==============================] - 205s 2s/step - loss: 0.0220 - accuracy: 0.9936 - val_loss: 0.0348 - val_accuracy: 0.9899\n"
     ]
    }
   ],
   "source": [
    "# train the head of the network\n",
    "print(\"[INFO] training head...\")\n",
    "H = model.fit(\n",
    "\taug.flow(trainX, trainY, batch_size=BS),\n",
    "\tsteps_per_epoch=len(trainX) // BS,\n",
    "\tvalidation_data=(testX, testY),\n",
    "\tvalidation_steps=len(testX) // BS,\n",
    "\tepochs=EPOCHS)"
   ]
  },
  {
   "cell_type": "code",
   "execution_count": 17,
   "id": "a9d2c488",
   "metadata": {},
   "outputs": [
    {
     "name": "stdout",
     "output_type": "stream",
     "text": [
      "[INFO] evaluating network...\n",
      "33/33 [==============================] - 29s 776ms/step\n"
     ]
    }
   ],
   "source": [
    "# make predictions on the testing set\n",
    "print(\"[INFO] evaluating network...\")\n",
    "predIdxs = model.predict(testX, batch_size=BS)"
   ]
  },
  {
   "cell_type": "code",
   "execution_count": 18,
   "id": "0a1ca21c",
   "metadata": {},
   "outputs": [],
   "source": [
    "# for each image in the testing set we need to find the index of the\n",
    "# label with corresponding largest predicted probability\n",
    "predIdxs = np.argmax(predIdxs, axis=1)"
   ]
  },
  {
   "cell_type": "code",
   "execution_count": 19,
   "id": "9f67ce3f",
   "metadata": {},
   "outputs": [
    {
     "name": "stdout",
     "output_type": "stream",
     "text": [
      "              precision    recall  f1-score   support\n",
      "\n",
      "   with_mask       0.99      0.99      0.99       932\n",
      "without_mask       0.99      0.99      0.99       957\n",
      "\n",
      "    accuracy                           0.99      1889\n",
      "   macro avg       0.99      0.99      0.99      1889\n",
      "weighted avg       0.99      0.99      0.99      1889\n",
      "\n"
     ]
    }
   ],
   "source": [
    "# show a nicely formatted classification report\n",
    "print(classification_report(testY.argmax(axis=1), predIdxs,\n",
    "\ttarget_names=lb.classes_))"
   ]
  },
  {
   "cell_type": "markdown",
   "id": "fd03a3b1",
   "metadata": {},
   "source": [
    "# 0 - With Mask | 1 - Without Mask"
   ]
  },
  {
   "cell_type": "code",
   "execution_count": 20,
   "id": "fe24c65e",
   "metadata": {},
   "outputs": [
    {
     "data": {
      "text/plain": [
       "Text(0.5, 25.722222222222214, 'Predicted label')"
      ]
     },
     "execution_count": 20,
     "metadata": {},
     "output_type": "execute_result"
    },
    {
     "data": {
      "image/png": "[encoded data removed]",
      "text/plain": [
       "<Figure size 1000x500 with 1 Axes>"
      ]
     },
     "metadata": {},
     "output_type": "display_data"
    }
   ],
   "source": [
    "# summary of the number of correct and incorrect predictions made by a classifier.\n",
    "from sklearn.metrics import confusion_matrix, accuracy_score\n",
    "plt.figure(figsize = (10,5))\n",
    "cm = confusion_matrix(testY.argmax(axis=1), predIdxs)/np.sum(confusion_matrix(testY.argmax(axis=1), predIdxs))\n",
    "sns.heatmap(cm, annot=True, fmt= '.1%', lw=0.1, cmap='Blues', cbar=False)\n",
    "plt.ylabel('True label')\n",
    "plt.xlabel('Predicted label')"
   ]
  },
  {
   "cell_type": "code",
   "execution_count": 21,
   "id": "5a9cb240",
   "metadata": {},
   "outputs": [
    {
     "name": "stdout",
     "output_type": "stream",
     "text": [
      "[INFO] saving mask detector model...\n"
     ]
    }
   ],
   "source": [
    "# serialize the model to disk\n",
    "print(\"[INFO] saving mask detector model...\")\n",
    "model.save(model_path+\".h5\")"
   ]
  },
  {
   "cell_type": "code",
   "execution_count": 22,
   "id": "62249afe",
   "metadata": {},
   "outputs": [
    {
     "data": {
      "image/png": "[encoded data removed]",
      "text/plain": [
       "<Figure size 1600x700 with 1 Axes>"
      ]
     },
     "metadata": {},
     "output_type": "display_data"
    },
    {
     "data": {
      "image/png": "[encoded data removed]",
      "text/plain": [
       "<Figure size 1600x700 with 1 Axes>"
      ]
     },
     "metadata": {},
     "output_type": "display_data"
    }
   ],
   "source": [
    "#plot summary of training accuracy/loss and any signs of overfitting on the data\n",
    "def plot_graph(history,string):\n",
    "    plt.figure(figsize=(16,7))\n",
    "    plt.plot(history.history[string],label=str(string))\n",
    "    plt.plot(history.history[\"val_\"+str(string)],label=str(string))\n",
    "    plt.xlabel(\"Epochs\")\n",
    "    plt.ylabel(string)\n",
    "    plt.legend([string,\"val_\"+string])\n",
    "    plt.show()\n",
    "\n",
    "\n",
    "plot_graph(H,\"accuracy\")\n",
    "plot_graph(H,\"loss\")"
   ]
  },
  {
   "cell_type": "code",
   "execution_count": 23,
   "id": "997772a7",
   "metadata": {},
   "outputs": [
    {
     "data": {
      "text/plain": [
       "{'loss': [0.3581840395927429,\n",
       "  0.1263301819562912,\n",
       "  0.09117335826158524,\n",
       "  0.06741035729646683,\n",
       "  0.06372550129890442,\n",
       "  0.05587643012404442,\n",
       "  0.0516146682202816,\n",
       "  0.04628339782357216,\n",
       "  0.044442061334848404,\n",
       "  0.04280133545398712,\n",
       "  0.04050504043698311,\n",
       "  0.03908945247530937,\n",
       "  0.03661409020423889,\n",
       "  0.03767979145050049,\n",
       "  0.03651199862360954,\n",
       "  0.03316551819443703,\n",
       "  0.03444269299507141,\n",
       "  0.030744940042495728,\n",
       "  0.03133881464600563,\n",
       "  0.02196943201124668],\n",
       " 'accuracy': [0.8825917840003967,\n",
       "  0.9689265489578247,\n",
       "  0.9756355881690979,\n",
       "  0.9804025292396545,\n",
       "  0.9811087846755981,\n",
       "  0.9835805296897888,\n",
       "  0.9862288236618042,\n",
       "  0.9864053726196289,\n",
       "  0.986935019493103,\n",
       "  0.9876412153244019,\n",
       "  0.9864053726196289,\n",
       "  0.986935019493103,\n",
       "  0.9888771176338196,\n",
       "  0.9862288236618042,\n",
       "  0.9887005686759949,\n",
       "  0.9901130199432373,\n",
       "  0.9887005686759949,\n",
       "  0.9901130199432373,\n",
       "  0.9911723136901855,\n",
       "  0.9936440587043762],\n",
       " 'val_loss': [0.13160520792007446,\n",
       "  0.08128305524587631,\n",
       "  0.06517084687948227,\n",
       "  0.05628247559070587,\n",
       "  0.05201386287808418,\n",
       "  0.04845425486564636,\n",
       "  0.044808804988861084,\n",
       "  0.04608823359012604,\n",
       "  0.04377629980444908,\n",
       "  0.042787741869688034,\n",
       "  0.044145166873931885,\n",
       "  0.041668351739645004,\n",
       "  0.0399942509829998,\n",
       "  0.03853997215628624,\n",
       "  0.042701754719018936,\n",
       "  0.03886280208826065,\n",
       "  0.039356034249067307,\n",
       "  0.04154275730252266,\n",
       "  0.034906335175037384,\n",
       "  0.0347568541765213],\n",
       " 'val_accuracy': [0.9703546762466431,\n",
       "  0.9735309481620789,\n",
       "  0.9777660369873047,\n",
       "  0.9782953858375549,\n",
       "  0.9804129004478455,\n",
       "  0.9814716577529907,\n",
       "  0.9820010662078857,\n",
       "  0.9846479892730713,\n",
       "  0.9846479892730713,\n",
       "  0.9851773381233215,\n",
       "  0.9835891723632812,\n",
       "  0.9862360954284668,\n",
       "  0.9857067465782166,\n",
       "  0.9872948527336121,\n",
       "  0.9851773381233215,\n",
       "  0.9862360954284668,\n",
       "  0.9867655038833618,\n",
       "  0.9878242611885071,\n",
       "  0.9899417757987976,\n",
       "  0.9899417757987976]}"
      ]
     },
     "execution_count": 23,
     "metadata": {},
     "output_type": "execute_result"
    }
   ],
   "source": [
    "# A data array of the training loss/Accuracy and validations\n",
    "H.history"
   ]
  },
  {
   "cell_type": "code",
   "execution_count": 24,
   "id": "a8bf64e0",
   "metadata": {},
   "outputs": [
    {
     "data": {
      "text/html": [
       "<div>\n",
       "<style scoped>\n",
       "    .dataframe tbody tr th:only-of-type {\n",
       "        vertical-align: middle;\n",
       "    }\n",
       "\n",
       "    .dataframe tbody tr th {\n",
       "        vertical-align: top;\n",
       "    }\n",
       "\n",
       "    .dataframe thead th {\n",
       "        text-align: right;\n",
       "    }\n",
       "</style>\n",
       "<table border=\"1\" class=\"dataframe\">\n",
       "  <thead>\n",
       "    <tr style=\"text-align: right;\">\n",
       "      <th></th>\n",
       "      <th>loss</th>\n",
       "      <th>accuracy</th>\n",
       "      <th>val_loss</th>\n",
       "      <th>val_accuracy</th>\n",
       "    </tr>\n",
       "  </thead>\n",
       "  <tbody>\n",
       "    <tr>\n",
       "      <th>0</th>\n",
       "      <td>0.358184</td>\n",
       "      <td>0.882592</td>\n",
       "      <td>0.131605</td>\n",
       "      <td>0.970355</td>\n",
       "    </tr>\n",
       "    <tr>\n",
       "      <th>1</th>\n",
       "      <td>0.126330</td>\n",
       "      <td>0.968927</td>\n",
       "      <td>0.081283</td>\n",
       "      <td>0.973531</td>\n",
       "    </tr>\n",
       "    <tr>\n",
       "      <th>2</th>\n",
       "      <td>0.091173</td>\n",
       "      <td>0.975636</td>\n",
       "      <td>0.065171</td>\n",
       "      <td>0.977766</td>\n",
       "    </tr>\n",
       "    <tr>\n",
       "      <th>3</th>\n",
       "      <td>0.067410</td>\n",
       "      <td>0.980403</td>\n",
       "      <td>0.056282</td>\n",
       "      <td>0.978295</td>\n",
       "    </tr>\n",
       "    <tr>\n",
       "      <th>4</th>\n",
       "      <td>0.063726</td>\n",
       "      <td>0.981109</td>\n",
       "      <td>0.052014</td>\n",
       "      <td>0.980413</td>\n",
       "    </tr>\n",
       "    <tr>\n",
       "      <th>5</th>\n",
       "      <td>0.055876</td>\n",
       "      <td>0.983581</td>\n",
       "      <td>0.048454</td>\n",
       "      <td>0.981472</td>\n",
       "    </tr>\n",
       "    <tr>\n",
       "      <th>6</th>\n",
       "      <td>0.051615</td>\n",
       "      <td>0.986229</td>\n",
       "      <td>0.044809</td>\n",
       "      <td>0.982001</td>\n",
       "    </tr>\n",
       "    <tr>\n",
       "      <th>7</th>\n",
       "      <td>0.046283</td>\n",
       "      <td>0.986405</td>\n",
       "      <td>0.046088</td>\n",
       "      <td>0.984648</td>\n",
       "    </tr>\n",
       "    <tr>\n",
       "      <th>8</th>\n",
       "      <td>0.044442</td>\n",
       "      <td>0.986935</td>\n",
       "      <td>0.043776</td>\n",
       "      <td>0.984648</td>\n",
       "    </tr>\n",
       "    <tr>\n",
       "      <th>9</th>\n",
       "      <td>0.042801</td>\n",
       "      <td>0.987641</td>\n",
       "      <td>0.042788</td>\n",
       "      <td>0.985177</td>\n",
       "    </tr>\n",
       "    <tr>\n",
       "      <th>10</th>\n",
       "      <td>0.040505</td>\n",
       "      <td>0.986405</td>\n",
       "      <td>0.044145</td>\n",
       "      <td>0.983589</td>\n",
       "    </tr>\n",
       "    <tr>\n",
       "      <th>11</th>\n",
       "      <td>0.039089</td>\n",
       "      <td>0.986935</td>\n",
       "      <td>0.041668</td>\n",
       "      <td>0.986236</td>\n",
       "    </tr>\n",
       "    <tr>\n",
       "      <th>12</th>\n",
       "      <td>0.036614</td>\n",
       "      <td>0.988877</td>\n",
       "      <td>0.039994</td>\n",
       "      <td>0.985707</td>\n",
       "    </tr>\n",
       "    <tr>\n",
       "      <th>13</th>\n",
       "      <td>0.037680</td>\n",
       "      <td>0.986229</td>\n",
       "      <td>0.038540</td>\n",
       "      <td>0.987295</td>\n",
       "    </tr>\n",
       "    <tr>\n",
       "      <th>14</th>\n",
       "      <td>0.036512</td>\n",
       "      <td>0.988701</td>\n",
       "      <td>0.042702</td>\n",
       "      <td>0.985177</td>\n",
       "    </tr>\n",
       "    <tr>\n",
       "      <th>15</th>\n",
       "      <td>0.033166</td>\n",
       "      <td>0.990113</td>\n",
       "      <td>0.038863</td>\n",
       "      <td>0.986236</td>\n",
       "    </tr>\n",
       "    <tr>\n",
       "      <th>16</th>\n",
       "      <td>0.034443</td>\n",
       "      <td>0.988701</td>\n",
       "      <td>0.039356</td>\n",
       "      <td>0.986766</td>\n",
       "    </tr>\n",
       "    <tr>\n",
       "      <th>17</th>\n",
       "      <td>0.030745</td>\n",
       "      <td>0.990113</td>\n",
       "      <td>0.041543</td>\n",
       "      <td>0.987824</td>\n",
       "    </tr>\n",
       "    <tr>\n",
       "      <th>18</th>\n",
       "      <td>0.031339</td>\n",
       "      <td>0.991172</td>\n",
       "      <td>0.034906</td>\n",
       "      <td>0.989942</td>\n",
       "    </tr>\n",
       "    <tr>\n",
       "      <th>19</th>\n",
       "      <td>0.021969</td>\n",
       "      <td>0.993644</td>\n",
       "      <td>0.034757</td>\n",
       "      <td>0.989942</td>\n",
       "    </tr>\n",
       "  </tbody>\n",
       "</table>\n",
       "</div>"
      ],
      "text/plain": [
       "        loss  accuracy  val_loss  val_accuracy\n",
       "0   0.358184  0.882592  0.131605      0.970355\n",
       "1   0.126330  0.968927  0.081283      0.973531\n",
       "2   0.091173  0.975636  0.065171      0.977766\n",
       "3   0.067410  0.980403  0.056282      0.978295\n",
       "4   0.063726  0.981109  0.052014      0.980413\n",
       "5   0.055876  0.983581  0.048454      0.981472\n",
       "6   0.051615  0.986229  0.044809      0.982001\n",
       "7   0.046283  0.986405  0.046088      0.984648\n",
       "8   0.044442  0.986935  0.043776      0.984648\n",
       "9   0.042801  0.987641  0.042788      0.985177\n",
       "10  0.040505  0.986405  0.044145      0.983589\n",
       "11  0.039089  0.986935  0.041668      0.986236\n",
       "12  0.036614  0.988877  0.039994      0.985707\n",
       "13  0.037680  0.986229  0.038540      0.987295\n",
       "14  0.036512  0.988701  0.042702      0.985177\n",
       "15  0.033166  0.990113  0.038863      0.986236\n",
       "16  0.034443  0.988701  0.039356      0.986766\n",
       "17  0.030745  0.990113  0.041543      0.987824\n",
       "18  0.031339  0.991172  0.034906      0.989942\n",
       "19  0.021969  0.993644  0.034757      0.989942"
      ]
     },
     "execution_count": 24,
     "metadata": {},
     "output_type": "execute_result"
    }
   ],
   "source": [
    "# A clean data table of the training loss/Accuracy and validations \n",
    "loss_df = pd.DataFrame(H.history)\n",
    "loss_df"
   ]
  },
  {
   "cell_type": "code",
   "execution_count": 25,
   "id": "67768821",
   "metadata": {},
   "outputs": [],
   "source": [
    "#The Start of the Facial Recognition Application\n",
    "#The Directory path of the face identification being recognized\n",
    "img_path = str(cwd) + \"//Recog_Train\""
   ]
  },
  {
   "cell_type": "code",
   "execution_count": 27,
   "id": "e7739f26",
   "metadata": {},
   "outputs": [],
   "source": [
    "#Initialization of face images and face names, known encoding images and names\n",
    "images = []\n",
    "class_names = []\n",
    "encode_list = []\n",
    "encode_list_cl = []\n",
    "#myList = os.listdir(img_path)"
   ]
  },
  {
   "cell_type": "code",
   "execution_count": 28,
   "id": "7cff6aa4",
   "metadata": {},
   "outputs": [],
   "source": [
    "#Loop over the image paths\n",
    "for subdir in os.listdir(img_path):\n",
    "    #Aquire subdirectory where indivitual person images are\n",
    "    path = img_path + '/' + subdir\n",
    "    path = path + '/'\n",
    "    for img in os.listdir(path):\n",
    "        #Extract the person name and image from the image path subdirectory\n",
    "        img_pic = path + img\n",
    "        class_names.append(subdir)\n",
    "        #Load the person image and convert it from BRG (OpenCV ordering)\n",
    "        cur_img = cv2.imread(img_pic)\n",
    "        #To dlib ordering (RGB)\n",
    "        cur_img = cv2.cvtColor(cur_img , cv2.COLOR_BGR2RGB)\n",
    "        images.append(cur_img)"
   ]
  },
  {
   "cell_type": "code",
   "execution_count": 29,
   "id": "1a12ab7c",
   "metadata": {},
   "outputs": [],
   "source": [
    "#frame: A frame from our stream\n",
    "#faceNet: The model used to detect where in the image faces are\n",
    "#maskNet: Our COVID-19 face mask classifier model\n",
    "\n",
    "def detect_and_predict_mask(frame, faceNet, maskNet,threshold):\n",
    "\t# grab the dimensions of the frame and then construct a blob\n",
    "\t# from it\n",
    "\tglobal detections \n",
    "\t(h, w) = frame.shape[:2]\n",
    "    #Blob from image (image, scalefactor=1.0, size, mean)\n",
    "\tblob = cv2.dnn.blobFromImage(frame, 1.0, (300, 300),(104.0, 177.0, 123.0))\n",
    "\t# pass the blob through the network and obtain the face detections\n",
    "\tfaceNet.setInput(blob)\n",
    "\tdetections = faceNet.forward()\n",
    "\n",
    "\t# initialize our list of faces, their corresponding locations,\n",
    "\t# and the list of predictions from our face mask network\n",
    "\tfaces = []\n",
    "\tlocs = []\n",
    "\tpreds = []\n",
    "\t# loop over the detections\n",
    "\tfor i in range(0, detections.shape[2]):\n",
    "\t\t# extract the confidence (i.e., probability) associated with\n",
    "\t\tconfidence = detections[0, 0, i, 2]\n",
    "\n",
    "\t\t# filter out weak detections by ensuring the confidence is\n",
    "\t\t# greater than the minimum confidence\n",
    "\t\tif confidence >threshold:\n",
    "\t\t\t# compute the (x, y)-coordinates of the bounding box for\n",
    "\t\t\t# the object\n",
    "\t\t\tbox = detections[0, 0, i, 3:7] * np.array([w, h, w, h])\n",
    "\t\t\t(startX, startY, endX, endY) = box.astype(\"int\")\n",
    "\n",
    "\t\t\t# ensure the bounding boxes fall within the dimensions of\n",
    "\t\t\t# the frame\n",
    "\t\t\t(startX, startY) = (max(0, startX), max(0, startY))\n",
    "\t\t\t(endX, endY) = (min(w - 1, endX), min(h - 1, endY))\n",
    "\n",
    "\t\t\t# extract the face ROI, convert it from BGR to RGB channel\n",
    "\t\t\t# ordering, resize it to 224x224, and preprocess it\n",
    "\t\t\tface = frame[startY:endY, startX:endX]\n",
    "\t\t\tface = cv2.cvtColor(face, cv2.COLOR_BGR2RGB)\n",
    "\t\t\tface = cv2.resize(face, (224, 224))\n",
    "\t\t\tface = img_to_array(face)\n",
    "\t\t\tface = preprocess_input(face)\n",
    "\t\t\tface = np.expand_dims(face, axis=0)\n",
    "            \n",
    "\t\t\t# add the face and bounding boxes to their respective\n",
    "\t\t\t# lists\n",
    "\t\t\tlocs.append((startX, startY, endX, endY))\n",
    "\t\t\t#print(maskNet.predict(face)[0].tolist())\n",
    "\t\t\tpreds.append(maskNet.predict(face)[0].tolist())\n",
    "\treturn (locs, preds)"
   ]
  },
  {
   "cell_type": "code",
   "execution_count": 30,
   "id": "4abf98e6",
   "metadata": {},
   "outputs": [],
   "source": [
    "# Directory path for face mask model \n",
    "MASK_MODEL_PATH=os.getcwd()+\"\\\\model\\\\mask_model.h5\"\n",
    "FACE_MODEL_PATH=str(cwd)+\"\\\\masksdetection-master\\\\face_detector\"\n",
    "CONFIG_PATH=str(cwd)+\"\\\\masksdetection-master\\\\face_detector\"\n",
    "THRESHOLD = 0.5"
   ]
  },
  {
   "cell_type": "code",
   "execution_count": 31,
   "id": "28419235",
   "metadata": {},
   "outputs": [],
   "source": [
    "#Library to join the faceNet folder path\n",
    "from os.path import dirname, join"
   ]
  },
  {
   "cell_type": "code",
   "execution_count": 32,
   "id": "a4822a11",
   "metadata": {},
   "outputs": [
    {
     "data": {
      "text/plain": [
       "'C:\\\\Users\\\\alrab\\\\OneDrive\\\\Documents\\\\GitHub\\\\Face_Mask_Recog_Project'"
      ]
     },
     "execution_count": 32,
     "metadata": {},
     "output_type": "execute_result"
    }
   ],
   "source": [
    "current_folder = globals()['_dh'][0]\n",
    "current_folder"
   ]
  },
  {
   "cell_type": "code",
   "execution_count": 33,
   "id": "76c1d53c",
   "metadata": {},
   "outputs": [],
   "source": [
    "#Config file for the faceNet model\n",
    "#The .prototxt file(s) which define the model architecture (i.e., the layers themselves)\n",
    "protoPath = join(current_folder, \"deploy.prototxt\")\n",
    "#The .caffemodel file which contains the weights for the actual layers\n",
    "weightsPath = join(current_folder, \"res10_300x300_ssd_iter_140000.caffemodel\")"
   ]
  },
  {
   "cell_type": "code",
   "execution_count": 34,
   "id": "a36634c0",
   "metadata": {},
   "outputs": [
    {
     "name": "stdout",
     "output_type": "stream",
     "text": [
      "[INFO] loading face detector model...\n",
      "[INFO] loading face mask detector model...\n"
     ]
    }
   ],
   "source": [
    "# load our serialized face detector model from disk\n",
    "#Single Shot Detector (SSD) framework with a ResNet base network\n",
    "print(\"[INFO] loading face detector model...\")\n",
    "faceNet = cv2.dnn.readNet(protoPath, weightsPath)\n",
    "\n",
    "# load the face mask detector model from disk\n",
    "print(\"[INFO] loading face mask detector model...\")\n",
    "maskNet = load_model(MASK_MODEL_PATH)"
   ]
  },
  {
   "cell_type": "code",
   "execution_count": 35,
   "id": "4ab58c40",
   "metadata": {},
   "outputs": [
    {
     "name": "stdout",
     "output_type": "stream",
     "text": [
      "[INFO] starting video stream...\n"
     ]
    }
   ],
   "source": [
    "# initialize the video stream and allow the camera sensor to warm up\n",
    "print(\"[INFO] starting video stream...\")\n",
    "vs = VideoStream(0).start()\n",
    "time.sleep(2.0)\n",
    "        \n",
    "def find_encodings(images) :\n",
    "    \n",
    "        # loop over the face images\n",
    "        for img in images : \n",
    "            \n",
    "            # compute the facial embedding for the face\n",
    "            encodings = face_recognition.face_encodings(img)[0]\n",
    "            \n",
    "            #add each encoding to our set of encodings\n",
    "            encode_list.append(encodings)\n",
    "       \n",
    "        return encode_list\n",
    "    \n",
    "encodeListKnown = find_encodings(images)\n",
    " \n",
    "cap = cv2.VideoCapture(0)"
   ]
  },
  {
   "cell_type": "code",
   "execution_count": null,
   "id": "5e914446",
   "metadata": {},
   "outputs": [
    {
     "name": "stdout",
     "output_type": "stream",
     "text": [
      "1/1 [==============================] - 5s 5s/step\n",
      "1/1 [==============================] - 0s 103ms/step\n",
      "1/1 [==============================] - 0s 62ms/step\n",
      "1/1 [==============================] - 0s 46ms/step\n",
      "1/1 [==============================] - 0s 46ms/step\n",
      "1/1 [==============================] - 0s 39ms/step\n",
      "1/1 [==============================] - 0s 45ms/step\n",
      "1/1 [==============================] - 0s 30ms/step\n",
      "1/1 [==============================] - 0s 58ms/step\n",
      "1/1 [==============================] - 0s 38ms/step\n",
      "1/1 [==============================] - 0s 35ms/step\n",
      "1/1 [==============================] - 0s 41ms/step\n",
      "1/1 [==============================] - 0s 54ms/step\n",
      "1/1 [==============================] - 0s 50ms/step\n",
      "1/1 [==============================] - 0s 36ms/step\n",
      "1/1 [==============================] - 0s 35ms/step\n",
      "1/1 [==============================] - 0s 44ms/step\n",
      "1/1 [==============================] - 0s 45ms/step\n",
      "1/1 [==============================] - 0s 39ms/step\n",
      "1/1 [==============================] - 0s 41ms/step\n",
      "1/1 [==============================] - 0s 42ms/step\n",
      "1/1 [==============================] - 0s 45ms/step\n",
      "1/1 [==============================] - 0s 58ms/step\n",
      "1/1 [==============================] - 0s 39ms/step\n",
      "1/1 [==============================] - 0s 42ms/step\n",
      "1/1 [==============================] - 0s 35ms/step\n",
      "1/1 [==============================] - 0s 47ms/step\n",
      "1/1 [==============================] - 0s 44ms/step\n",
      "1/1 [==============================] - 0s 48ms/step\n",
      "1/1 [==============================] - 0s 48ms/step\n",
      "1/1 [==============================] - 0s 42ms/step\n",
      "1/1 [==============================] - 0s 30ms/step\n",
      "1/1 [==============================] - 0s 40ms/step\n",
      "1/1 [==============================] - 0s 42ms/step\n",
      "1/1 [==============================] - 0s 40ms/step\n",
      "1/1 [==============================] - 0s 44ms/step\n",
      "1/1 [==============================] - 0s 42ms/step\n",
      "1/1 [==============================] - 0s 47ms/step\n",
      "1/1 [==============================] - 0s 81ms/step\n",
      "1/1 [==============================] - 0s 47ms/step\n",
      "1/1 [==============================] - 0s 51ms/step\n",
      "1/1 [==============================] - 0s 50ms/step\n",
      "1/1 [==============================] - 0s 45ms/step\n",
      "1/1 [==============================] - 0s 30ms/step\n",
      "1/1 [==============================] - 0s 41ms/step\n",
      "1/1 [==============================] - 0s 46ms/step\n",
      "1/1 [==============================] - 0s 31ms/step\n",
      "1/1 [==============================] - 0s 43ms/step\n",
      "1/1 [==============================] - 0s 43ms/step\n",
      "1/1 [==============================] - 0s 42ms/step\n",
      "1/1 [==============================] - 0s 38ms/step\n",
      "1/1 [==============================] - 0s 45ms/step\n",
      "1/1 [==============================] - 0s 45ms/step\n",
      "1/1 [==============================] - 0s 43ms/step\n",
      "1/1 [==============================] - 0s 52ms/step\n",
      "1/1 [==============================] - 0s 43ms/step\n",
      "1/1 [==============================] - 0s 44ms/step\n",
      "1/1 [==============================] - 0s 41ms/step\n",
      "1/1 [==============================] - 0s 50ms/step\n",
      "1/1 [==============================] - 0s 42ms/step\n",
      "1/1 [==============================] - 0s 41ms/step\n",
      "1/1 [==============================] - 0s 38ms/step\n",
      "1/1 [==============================] - 0s 37ms/step\n",
      "1/1 [==============================] - 0s 39ms/step\n",
      "1/1 [==============================] - 0s 34ms/step\n",
      "1/1 [==============================] - 0s 32ms/step\n",
      "1/1 [==============================] - 0s 41ms/step\n",
      "1/1 [==============================] - 0s 34ms/step\n",
      "1/1 [==============================] - 0s 51ms/step\n",
      "1/1 [==============================] - 0s 39ms/step\n",
      "1/1 [==============================] - 0s 40ms/step\n",
      "1/1 [==============================] - 0s 41ms/step\n",
      "1/1 [==============================] - 0s 43ms/step\n",
      "1/1 [==============================] - 0s 46ms/step\n",
      "1/1 [==============================] - 0s 46ms/step\n",
      "1/1 [==============================] - 0s 54ms/step\n",
      "1/1 [==============================] - 0s 48ms/step\n",
      "1/1 [==============================] - 0s 58ms/step\n",
      "1/1 [==============================] - 0s 59ms/step\n",
      "1/1 [==============================] - 0s 55ms/step\n",
      "1/1 [==============================] - 0s 63ms/step\n",
      "1/1 [==============================] - 0s 42ms/step\n",
      "1/1 [==============================] - 0s 49ms/step\n",
      "1/1 [==============================] - 0s 55ms/step\n",
      "1/1 [==============================] - 0s 53ms/step\n",
      "1/1 [==============================] - 0s 56ms/step\n",
      "1/1 [==============================] - 0s 52ms/step\n",
      "1/1 [==============================] - 0s 63ms/step\n",
      "1/1 [==============================] - 0s 55ms/step\n",
      "1/1 [==============================] - 0s 50ms/step\n",
      "1/1 [==============================] - 0s 52ms/step\n",
      "1/1 [==============================] - 0s 57ms/step\n",
      "1/1 [==============================] - 0s 53ms/step\n",
      "1/1 [==============================] - 0s 58ms/step\n",
      "1/1 [==============================] - 0s 56ms/step\n",
      "1/1 [==============================] - 0s 34ms/step\n",
      "1/1 [==============================] - 0s 42ms/step\n",
      "1/1 [==============================] - 0s 32ms/step\n",
      "1/1 [==============================] - 0s 40ms/step\n",
      "1/1 [==============================] - 0s 35ms/step\n",
      "1/1 [==============================] - 0s 35ms/step\n",
      "1/1 [==============================] - 0s 31ms/step\n",
      "1/1 [==============================] - 0s 33ms/step\n",
      "1/1 [==============================] - 0s 38ms/step\n",
      "1/1 [==============================] - 0s 40ms/step\n",
      "1/1 [==============================] - 0s 45ms/step\n",
      "1/1 [==============================] - 0s 48ms/step\n",
      "1/1 [==============================] - 0s 45ms/step\n",
      "1/1 [==============================] - 0s 47ms/step\n",
      "1/1 [==============================] - 0s 47ms/step\n",
      "1/1 [==============================] - 0s 47ms/step\n",
      "1/1 [==============================] - 0s 49ms/step\n",
      "1/1 [==============================] - 0s 52ms/step\n",
      "1/1 [==============================] - 0s 43ms/step\n",
      "1/1 [==============================] - 0s 44ms/step\n",
      "1/1 [==============================] - 0s 36ms/step\n",
      "1/1 [==============================] - 0s 40ms/step\n",
      "1/1 [==============================] - 0s 37ms/step\n",
      "1/1 [==============================] - 0s 47ms/step\n",
      "1/1 [==============================] - 0s 41ms/step\n",
      "1/1 [==============================] - 0s 31ms/step\n",
      "1/1 [==============================] - 0s 36ms/step\n",
      "1/1 [==============================] - 0s 43ms/step\n",
      "1/1 [==============================] - 0s 33ms/step\n",
      "1/1 [==============================] - 0s 31ms/step\n",
      "1/1 [==============================] - 0s 39ms/step\n",
      "1/1 [==============================] - 0s 40ms/step\n",
      "1/1 [==============================] - 0s 45ms/step\n",
      "1/1 [==============================] - 0s 42ms/step\n",
      "1/1 [==============================] - 0s 36ms/step\n",
      "1/1 [==============================] - 0s 41ms/step\n",
      "1/1 [==============================] - 0s 35ms/step\n",
      "1/1 [==============================] - 0s 39ms/step\n",
      "1/1 [==============================] - 0s 39ms/step\n",
      "1/1 [==============================] - 0s 35ms/step\n",
      "1/1 [==============================] - 0s 39ms/step\n",
      "1/1 [==============================] - 0s 32ms/step\n",
      "1/1 [==============================] - 0s 40ms/step\n",
      "1/1 [==============================] - 0s 42ms/step\n",
      "1/1 [==============================] - 0s 38ms/step\n",
      "1/1 [==============================] - 0s 40ms/step\n",
      "1/1 [==============================] - 0s 35ms/step\n",
      "1/1 [==============================] - 0s 36ms/step\n",
      "1/1 [==============================] - 0s 35ms/step\n",
      "1/1 [==============================] - 0s 39ms/step\n",
      "1/1 [==============================] - 0s 42ms/step\n",
      "1/1 [==============================] - 0s 47ms/step\n",
      "1/1 [==============================] - 0s 32ms/step\n",
      "1/1 [==============================] - 0s 41ms/step\n",
      "1/1 [==============================] - 0s 34ms/step\n",
      "1/1 [==============================] - 0s 45ms/step\n",
      "1/1 [==============================] - 0s 27ms/step\n",
      "1/1 [==============================] - 0s 32ms/step\n",
      "1/1 [==============================] - 0s 36ms/step\n",
      "1/1 [==============================] - 0s 44ms/step\n",
      "1/1 [==============================] - 0s 33ms/step\n",
      "1/1 [==============================] - 0s 37ms/step\n"
     ]
    },
    {
     "name": "stdout",
     "output_type": "stream",
     "text": [
      "1/1 [==============================] - 0s 33ms/step\n",
      "1/1 [==============================] - 0s 40ms/step\n",
      "1/1 [==============================] - 0s 51ms/step\n",
      "1/1 [==============================] - 0s 49ms/step\n",
      "1/1 [==============================] - 0s 48ms/step\n",
      "1/1 [==============================] - 0s 43ms/step\n",
      "1/1 [==============================] - 0s 39ms/step\n",
      "1/1 [==============================] - 0s 44ms/step\n",
      "1/1 [==============================] - 0s 48ms/step\n",
      "1/1 [==============================] - 0s 45ms/step\n",
      "1/1 [==============================] - 0s 49ms/step\n",
      "1/1 [==============================] - 0s 38ms/step\n",
      "1/1 [==============================] - 0s 42ms/step\n",
      "1/1 [==============================] - 0s 40ms/step\n",
      "1/1 [==============================] - 0s 43ms/step\n",
      "1/1 [==============================] - 0s 36ms/step\n",
      "1/1 [==============================] - 0s 34ms/step\n",
      "1/1 [==============================] - 0s 41ms/step\n",
      "1/1 [==============================] - 0s 33ms/step\n",
      "1/1 [==============================] - 0s 34ms/step\n",
      "1/1 [==============================] - 0s 45ms/step\n",
      "1/1 [==============================] - 0s 48ms/step\n",
      "1/1 [==============================] - 0s 36ms/step\n",
      "1/1 [==============================] - 0s 42ms/step\n",
      "1/1 [==============================] - 0s 37ms/step\n",
      "1/1 [==============================] - 0s 37ms/step\n",
      "1/1 [==============================] - 0s 47ms/step\n",
      "1/1 [==============================] - 0s 36ms/step\n",
      "1/1 [==============================] - 0s 35ms/step\n",
      "1/1 [==============================] - 0s 37ms/step\n",
      "1/1 [==============================] - 0s 37ms/step\n",
      "1/1 [==============================] - 0s 33ms/step\n",
      "1/1 [==============================] - 0s 32ms/step\n",
      "1/1 [==============================] - 0s 42ms/step\n",
      "1/1 [==============================] - 0s 42ms/step\n",
      "1/1 [==============================] - 0s 32ms/step\n",
      "1/1 [==============================] - 0s 35ms/step\n",
      "1/1 [==============================] - 0s 38ms/step\n",
      "1/1 [==============================] - 0s 50ms/step\n",
      "1/1 [==============================] - 0s 41ms/step\n",
      "1/1 [==============================] - 0s 36ms/step\n",
      "1/1 [==============================] - 0s 39ms/step\n",
      "1/1 [==============================] - 0s 36ms/step\n"
     ]
    }
   ],
   "source": [
    "# loop over the frames from the video stream\n",
    "while True : \n",
    "    #Capturing image from the video stream,then resize and color conversion using openCV libraries \n",
    "    success , img = cap.read()\n",
    "    imgs = cv2.resize(img,(0,0),None,0.25,0.25)\n",
    "    imgs = cv2.cvtColor(imgs , cv2.COLOR_BGR2RGB)\n",
    "    \n",
    "    #Getting the location of the face mask boundaries\n",
    "    #and the predection of With/Without Mask\n",
    "    (locs, preds) = detect_and_predict_mask(imgs, faceNet, maskNet,THRESHOLD)\n",
    "    \n",
    "    #Getting the location of the face box (the actual boundaries) from the video stream \n",
    "    facesCurFrame = face_recognition.face_locations(imgs)\n",
    "    \n",
    "    #Getting the face encodings from any faces in the video stram\n",
    "    encodeCurFrame  = face_recognition.face_encodings(imgs,facesCurFrame)\n",
    "    \n",
    "    for encodeFace , faceLoc , pred in zip(encodeCurFrame,facesCurFrame ,preds):\n",
    "        \n",
    "        # Obtaining the classification label along with the associated probability\n",
    "        (mask, withoutMask) = pred\n",
    "        label = \"Mask\" if mask > withoutMask else \"No Mask\"\n",
    "        \n",
    "        #Color the label Red No Mask,Green with Mask\n",
    "        color = (0, 255, 0) if label == \"Mask\" else (0, 0, 255)\n",
    "        label = \"{}: {:.2f}%\".format(label, max(mask, withoutMask) * 100)\n",
    "        \n",
    "        #Comparing the face encoding from the video stream to the known list of encodings\n",
    "        matches = face_recognition.compare_faces(encode_list, encodeFace)\n",
    "        \n",
    "        #Get a distance between face encoding from the video stream to the known list of encodings key points.\n",
    "        #Lower distance means better match\n",
    "        faceDis = face_recognition.face_distance(encode_list, encodeFace)\n",
    "        \n",
    "        #Returns the index of the lowest distance face point and stores it in the matchIndex variable.\n",
    "        matchIndex = np.argmin(faceDis)\n",
    "        \n",
    "        #Grab the element from the class_Names list of the same matching index\n",
    "        name = class_names[matchIndex]\n",
    "        color = (0, 255, 0) if label == \"Mask\" else (0, 0, 255)\n",
    " \n",
    "       #Draw a rectangle over the detected faces\n",
    "        y1,x2,y2,x1 = faceLoc\n",
    "        y1,x2,y2,x1 = y1*4 , x2*4 , y2*4 , x1*4\n",
    "        \n",
    "        #Draw the mask label with the \"known\" or \"unknown\" person name below the face\n",
    "        cv2.rectangle(img,(x1,y1),(x2,y2),color,2)\n",
    "        cv2.rectangle(img,(x1,y2-35),(x2,y2),color, cv2.FILLED)\n",
    "        cv2.putText(img, name, (x1+6 , y2 - 6),cv2.FONT_HERSHEY_COMPLEX,1,(255,255,255),2 )\n",
    "        cv2.putText(img, label, (x1 , y2+10) , cv2.FONT_HERSHEY_COMPLEX , 1 , (255,0,255) , 2)\n",
    "        \n",
    "        \n",
    "        cv2.imshow('Face Mask Recognition Project' , img)\n",
    "        \n",
    "        key = cv2.waitKey(1) & 0xFF\n",
    "        \n",
    "        if key == ord(\"q\"):\n",
    "            break\n",
    "        \n",
    "cv2.destroyAllWindows()\n",
    "vs.stop()"
   ]
  }
 ],
 "metadata": {
  "kernelspec": {
   "display_name": "Python 3 (ipykernel)",
   "language": "python",
   "name": "python3"
  },
  "language_info": {
   "codemirror_mode": {
    "name": "ipython",
    "version": 3
   },
   "file_extension": ".py",
   "mimetype": "text/x-python",
   "name": "python",
   "nbconvert_exporter": "python",
   "pygments_lexer": "ipython3",
   "version": "3.8.13"
  }
 },
 "nbformat": 4,
 "nbformat_minor": 5
}
