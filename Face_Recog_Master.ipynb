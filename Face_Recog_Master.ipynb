{
 "cells": [
  {
   "cell_type": "code",
   "execution_count": 1,
   "id": "cf9fa1ac",
   "metadata": {},
   "outputs": [],
   "source": [
    "import os\n",
    "import pandas as pd\n",
    "import cv2\n",
    "import face_recognition\n",
    "from matplotlib import pyplot as plt\n",
    "from PIL import Image\n",
    "import numpy as np\n",
    "import imutils\n",
    "from imutils import paths\n",
    "import time\n",
    "import math\n",
    "import sys\n",
    "from threading import Timer\n",
    "import shutil\n",
    "import time\n",
    "import seaborn as sns\n",
    "#Tensor libraries for face/mask recognitions\n",
    "from tensorflow.keras.applications.mobilenet_v2 import preprocess_input\n",
    "from tensorflow.keras.preprocessing.image import img_to_array\n",
    "from tensorflow.keras.models import load_model\n",
    "from imutils.video import VideoStream\n",
    "\n",
    "\n",
    "#Tensor and etc libraries to train the models and datasets\n",
    "from tensorflow.keras.preprocessing.image import ImageDataGenerator\n",
    "from tensorflow.keras.applications import MobileNetV2, VGG19, ResNet50, InceptionV3, MobileNet, DenseNet201\n",
    "from tensorflow.keras.layers import AveragePooling2D\n",
    "from tensorflow.keras.layers import Dropout\n",
    "from tensorflow.keras.layers import Flatten\n",
    "from tensorflow.keras.layers import Dense\n",
    "from tensorflow.keras.layers import Input\n",
    "from tensorflow.keras.models import Model\n",
    "from tensorflow.keras.optimizers import Adam\n",
    "from tensorflow.keras.applications.mobilenet_v2 import preprocess_input\n",
    "from tensorflow.keras.preprocessing.image import img_to_array\n",
    "from tensorflow.keras.preprocessing.image import load_img\n",
    "from tensorflow.keras.utils import to_categorical\n",
    "from tensorflow.keras.callbacks import EarlyStopping\n",
    "from sklearn.preprocessing import LabelBinarizer\n",
    "from sklearn.model_selection import train_test_split\n",
    "from sklearn.metrics import classification_report\n",
    "import argparse"
   ]
  },
  {
   "cell_type": "code",
   "execution_count": 2,
   "id": "6847f392",
   "metadata": {},
   "outputs": [
    {
     "data": {
      "text/plain": [
       "WindowsPath('C:/Users/alrab/OneDrive/Documents/GitHub/Face_Mask_Recog_Project')"
      ]
     },
     "execution_count": 2,
     "metadata": {},
     "output_type": "execute_result"
    }
   ],
   "source": [
    "from pathlib import Path\n",
    "\n",
    "cwd = Path().resolve()\n",
    "# cwd == PosixPath('/path/to/this/jupyter/ipynb/file's/directory/')\n",
    "cwd"
   ]
  },
  {
   "cell_type": "code",
   "execution_count": 3,
   "id": "7fda4e02",
   "metadata": {},
   "outputs": [],
   "source": [
    "#grabing dataset directory path\n",
    "#grabbing model directory path to save h5 model file\n",
    "dataset_path=os.getcwd()+\"/dataset\"\n",
    "model_path=os.getcwd()+\"/model/mask_model\""
   ]
  },
  {
   "cell_type": "code",
   "execution_count": 4,
   "id": "adfc674e",
   "metadata": {},
   "outputs": [],
   "source": [
    "# initialize the initial learning rate, number of epochs to train for,\n",
    "# and batch size\n",
    "INIT_LR = 1e-4\n",
    "EPOCHS = 20\n",
    "BS = 59"
   ]
  },
  {
   "cell_type": "code",
   "execution_count": 5,
   "id": "b39bd339",
   "metadata": {},
   "outputs": [
    {
     "name": "stdout",
     "output_type": "stream",
     "text": [
      "[INFO] loading images...\n"
     ]
    }
   ],
   "source": [
    "# grab the list of images in our dataset directory, then initialize\n",
    "# the list of data (i.e., images) and class images (With / Without Mask)\n",
    "print(\"[INFO] loading images...\")\n",
    "imagePaths = list(paths.list_images(dataset_path))\n",
    "imagePaths = [imagePath.replace(\"\\\\\",\"//\",-1) for imagePath in imagePaths]\n",
    "data = []\n",
    "labels = []"
   ]
  },
  {
   "cell_type": "code",
   "execution_count": 6,
   "id": "11af3e69",
   "metadata": {},
   "outputs": [
    {
     "name": "stderr",
     "output_type": "stream",
     "text": [
      "C:\\Users\\alrab\\anaconda3\\envs\\Face_recognition\\lib\\site-packages\\PIL\\Image.py:959: UserWarning: Palette images with Transparency expressed in bytes should be converted to RGBA images\n",
      "  warnings.warn(\n"
     ]
    }
   ],
   "source": [
    "# loop over the image paths\n",
    "for imagePath in imagePaths:\n",
    "\t# extract the class label from the filename\n",
    "\tlabel = imagePath.split(\"//\")[-2]\n",
    "\n",
    "\t# load the input image (224x224) and preprocess it\n",
    "\timage = load_img(imagePath, target_size=(224, 224))\n",
    "\timage = img_to_array(image)\n",
    "\timage = preprocess_input(image)\n",
    "\n",
    "\t# update the data and labels lists, respectively\n",
    "\tdata.append(image)\n",
    "\tlabels.append(label)"
   ]
  },
  {
   "cell_type": "code",
   "execution_count": 7,
   "id": "1c841809",
   "metadata": {},
   "outputs": [],
   "source": [
    "# convert the data and labels to NumPy arrays\n",
    "data = np.array(data, dtype=\"float32\")\n",
    "labels = np.array(labels)"
   ]
  },
  {
   "cell_type": "code",
   "execution_count": 8,
   "id": "3832e01d",
   "metadata": {},
   "outputs": [],
   "source": [
    "# perform one-hot encoding on the labels\n",
    "# Converting text labels to readable data to the machine \n",
    "lb = LabelBinarizer()\n",
    "labels = lb.fit_transform(labels)\n",
    "labels = to_categorical(labels)"
   ]
  },
  {
   "cell_type": "code",
   "execution_count": 9,
   "id": "c4292cc5",
   "metadata": {},
   "outputs": [],
   "source": [
    "# partition the data into training and testing splits using 75% of\n",
    "# the data for training and the remaining 25% for testing\n",
    "(trainX, testX, trainY, testY) = train_test_split(data, labels,test_size=0.25, stratify=labels, random_state=42)"
   ]
  },
  {
   "cell_type": "code",
   "execution_count": 10,
   "id": "6c323c94",
   "metadata": {},
   "outputs": [],
   "source": [
    "# construct the training image generator for data augmentation via the ImageDataGenerator class\n",
    "# modefying the size of the training dataset to fit the model\n",
    "aug = ImageDataGenerator(\n",
    "\trotation_range=20,\n",
    "\tzoom_range=0.15,\n",
    "\twidth_shift_range=0.2,\n",
    "\theight_shift_range=0.2,\n",
    "\tshear_range=0.15,\n",
    "\thorizontal_flip=True,\n",
    "\tfill_mode=\"nearest\")"
   ]
  },
  {
   "cell_type": "code",
   "execution_count": 11,
   "id": "311b20e0",
   "metadata": {},
   "outputs": [
    {
     "name": "stdout",
     "output_type": "stream",
     "text": [
      "WARNING:tensorflow:`input_shape` is undefined or non-square, or `rows` is not in [96, 128, 160, 192, 224]. Weights for input shape (224, 224) will be loaded as the default.\n"
     ]
    }
   ],
   "source": [
    "# load the MobileNetV2 network, ensuring the head Fully connected layer sets are\n",
    "# left off\n",
    "baseModel = MobileNetV2(weights=\"imagenet\", include_top=False,input_tensor=Input(shape=(224, 224, 3)))"
   ]
  },
  {
   "cell_type": "code",
   "execution_count": 12,
   "id": "d852222b",
   "metadata": {},
   "outputs": [],
   "source": [
    "# construct the head of the model that will be placed on top of the\n",
    "# the base model\n",
    "headModel = baseModel.output\n",
    "headModel = AveragePooling2D(pool_size=(7, 7))(headModel)\n",
    "headModel = Flatten(name=\"flatten\")(headModel)\n",
    "headModel = Dense(128, activation=\"relu\")(headModel)\n",
    "headModel = Dropout(0.5)(headModel)\n",
    "headModel = Dense(2, activation=\"softmax\")(headModel)"
   ]
  },
  {
   "cell_type": "code",
   "execution_count": 13,
   "id": "8c857997",
   "metadata": {},
   "outputs": [],
   "source": [
    "# place the head FC model on top of the base model (this will become\n",
    "# the actual model we will train)\n",
    "model = Model(inputs=baseModel.input, outputs=headModel)"
   ]
  },
  {
   "cell_type": "code",
   "execution_count": 14,
   "id": "5f18d37c",
   "metadata": {},
   "outputs": [],
   "source": [
    "# loop over all layers in the base model and freeze them so they will\n",
    "# *not* be updated during the first training process\n",
    "for layer in baseModel.layers:\n",
    "\tlayer.trainable = False"
   ]
  },
  {
   "cell_type": "code",
   "execution_count": 15,
   "id": "b7c8e73c",
   "metadata": {},
   "outputs": [
    {
     "name": "stdout",
     "output_type": "stream",
     "text": [
      "[INFO] compiling model...\n"
     ]
    }
   ],
   "source": [
    "# compile our model\n",
    "print(\"[INFO] compiling model...\")\n",
    "opt = Adam(learning_rate=INIT_LR, decay=INIT_LR / EPOCHS)\n",
    "model.compile(loss=\"binary_crossentropy\", optimizer=opt, metrics=[\"accuracy\"])"
   ]
  },
  {
   "cell_type": "code",
   "execution_count": 16,
   "id": "22154921",
   "metadata": {
    "scrolled": true
   },
   "outputs": [
    {
     "name": "stdout",
     "output_type": "stream",
     "text": [
      "[INFO] training head...\n",
      "Epoch 1/20\n",
      "96/96 [==============================] - 213s 2s/step - loss: 0.3314 - accuracy: 0.8858 - val_loss: 0.1215 - val_accuracy: 0.9741\n",
      "Epoch 2/20\n",
      "96/96 [==============================] - 222s 2s/step - loss: 0.1158 - accuracy: 0.9691 - val_loss: 0.0749 - val_accuracy: 0.9799\n",
      "Epoch 3/20\n",
      "96/96 [==============================] - 214s 2s/step - loss: 0.0812 - accuracy: 0.9770 - val_loss: 0.0605 - val_accuracy: 0.9809\n",
      "Epoch 4/20\n",
      "96/96 [==============================] - 200s 2s/step - loss: 0.0630 - accuracy: 0.9815 - val_loss: 0.0575 - val_accuracy: 0.9804\n",
      "Epoch 5/20\n",
      "96/96 [==============================] - 210s 2s/step - loss: 0.0601 - accuracy: 0.9836 - val_loss: 0.0479 - val_accuracy: 0.9857\n",
      "Epoch 6/20\n",
      "96/96 [==============================] - 212s 2s/step - loss: 0.0517 - accuracy: 0.9832 - val_loss: 0.0451 - val_accuracy: 0.9862\n",
      "Epoch 7/20\n",
      "96/96 [==============================] - 220s 2s/step - loss: 0.0491 - accuracy: 0.9846 - val_loss: 0.0434 - val_accuracy: 0.9894\n",
      "Epoch 8/20\n",
      "96/96 [==============================] - 208s 2s/step - loss: 0.0384 - accuracy: 0.9875 - val_loss: 0.0468 - val_accuracy: 0.9846\n",
      "Epoch 9/20\n",
      "96/96 [==============================] - 221s 2s/step - loss: 0.0406 - accuracy: 0.9871 - val_loss: 0.0414 - val_accuracy: 0.9868\n",
      "Epoch 10/20\n",
      "96/96 [==============================] - 216s 2s/step - loss: 0.0382 - accuracy: 0.9862 - val_loss: 0.0389 - val_accuracy: 0.9884\n",
      "Epoch 11/20\n",
      "96/96 [==============================] - 230s 2s/step - loss: 0.0304 - accuracy: 0.9910 - val_loss: 0.0402 - val_accuracy: 0.9878\n",
      "Epoch 12/20\n",
      "96/96 [==============================] - 205s 2s/step - loss: 0.0382 - accuracy: 0.9883 - val_loss: 0.0390 - val_accuracy: 0.9884\n",
      "Epoch 13/20\n",
      "96/96 [==============================] - 206s 2s/step - loss: 0.0336 - accuracy: 0.9892 - val_loss: 0.0371 - val_accuracy: 0.9884\n",
      "Epoch 14/20\n",
      "96/96 [==============================] - 211s 2s/step - loss: 0.0312 - accuracy: 0.9898 - val_loss: 0.0334 - val_accuracy: 0.9878\n",
      "Epoch 15/20\n",
      "96/96 [==============================] - 200s 2s/step - loss: 0.0349 - accuracy: 0.9875 - val_loss: 0.0333 - val_accuracy: 0.9905\n",
      "Epoch 16/20\n",
      "96/96 [==============================] - 204s 2s/step - loss: 0.0302 - accuracy: 0.9903 - val_loss: 0.0333 - val_accuracy: 0.9921\n",
      "Epoch 17/20\n",
      "96/96 [==============================] - 205s 2s/step - loss: 0.0335 - accuracy: 0.9903 - val_loss: 0.0316 - val_accuracy: 0.9905\n",
      "Epoch 18/20\n",
      "96/96 [==============================] - 202s 2s/step - loss: 0.0291 - accuracy: 0.9915 - val_loss: 0.0340 - val_accuracy: 0.9910\n",
      "Epoch 19/20\n",
      "96/96 [==============================] - 204s 2s/step - loss: 0.0288 - accuracy: 0.9912 - val_loss: 0.0309 - val_accuracy: 0.9905\n",
      "Epoch 20/20\n",
      "96/96 [==============================] - 190s 2s/step - loss: 0.0286 - accuracy: 0.9917 - val_loss: 0.0342 - val_accuracy: 0.9915\n"
     ]
    }
   ],
   "source": [
    "# train the head of the network\n",
    "print(\"[INFO] training head...\")\n",
    "H = model.fit(\n",
    "\taug.flow(trainX, trainY, batch_size=BS),\n",
    "\tsteps_per_epoch=len(trainX) // BS,\n",
    "\tvalidation_data=(testX, testY),\n",
    "\tvalidation_steps=len(testX) // BS,\n",
    "\tepochs=EPOCHS)"
   ]
  },
  {
   "cell_type": "code",
   "execution_count": 17,
   "id": "a9d2c488",
   "metadata": {},
   "outputs": [
    {
     "name": "stdout",
     "output_type": "stream",
     "text": [
      "[INFO] evaluating network...\n",
      "33/33 [==============================] - 31s 773ms/step\n"
     ]
    }
   ],
   "source": [
    "# make predictions on the testing set\n",
    "print(\"[INFO] evaluating network...\")\n",
    "predIdxs = model.predict(testX, batch_size=BS)"
   ]
  },
  {
   "cell_type": "code",
   "execution_count": 18,
   "id": "0a1ca21c",
   "metadata": {},
   "outputs": [],
   "source": [
    "# for each image in the testing set we need to find the index of the\n",
    "# label with corresponding largest predicted probability\n",
    "predIdxs = np.argmax(predIdxs, axis=1)"
   ]
  },
  {
   "cell_type": "code",
   "execution_count": 19,
   "id": "9f67ce3f",
   "metadata": {},
   "outputs": [
    {
     "name": "stdout",
     "output_type": "stream",
     "text": [
      "              precision    recall  f1-score   support\n",
      "\n",
      "   with_mask       0.99      1.00      0.99       932\n",
      "without_mask       1.00      0.99      0.99       957\n",
      "\n",
      "    accuracy                           0.99      1889\n",
      "   macro avg       0.99      0.99      0.99      1889\n",
      "weighted avg       0.99      0.99      0.99      1889\n",
      "\n"
     ]
    }
   ],
   "source": [
    "# show a nicely formatted classification report\n",
    "print(classification_report(testY.argmax(axis=1), predIdxs,\n",
    "\ttarget_names=lb.classes_))"
   ]
  },
  {
   "cell_type": "markdown",
   "id": "fd03a3b1",
   "metadata": {},
   "source": [
    "# 0 - With Mask | 1 - Without Mask"
   ]
  },
  {
   "cell_type": "code",
   "execution_count": 20,
   "id": "fe24c65e",
   "metadata": {},
   "outputs": [
    {
     "data": {
      "text/plain": [
       "Text(0.5, 25.722222222222214, 'Predicted label')"
      ]
     },
     "execution_count": 20,
     "metadata": {},
     "output_type": "execute_result"
    },
    {
     "data": {
      "image/png": "[encoded data removed]",
      "text/plain": [
       "<Figure size 1000x500 with 1 Axes>"
      ]
     },
     "metadata": {},
     "output_type": "display_data"
    }
   ],
   "source": [
    "# summary of the number of correct and incorrect predictions made by a classifier.\n",
    "from sklearn.metrics import confusion_matrix, accuracy_score\n",
    "plt.figure(figsize = (10,5))\n",
    "cm = confusion_matrix(testY.argmax(axis=1), predIdxs)/np.sum(confusion_matrix(testY.argmax(axis=1), predIdxs))\n",
    "sns.heatmap(cm, annot=True, fmt= '.1%', lw=0.1, cmap='Blues', cbar=False)\n",
    "plt.ylabel('True label')\n",
    "plt.xlabel('Predicted label')"
   ]
  },
  {
   "cell_type": "code",
   "execution_count": 21,
   "id": "5a9cb240",
   "metadata": {},
   "outputs": [
    {
     "name": "stdout",
     "output_type": "stream",
     "text": [
      "[INFO] saving mask detector model...\n"
     ]
    }
   ],
   "source": [
    "# serialize the model to disk\n",
    "print(\"[INFO] saving mask detector model...\")\n",
    "model.save(model_path+\".h5\")"
   ]
  },
  {
   "cell_type": "code",
   "execution_count": 22,
   "id": "62249afe",
   "metadata": {},
   "outputs": [
    {
     "data": {
      "image/png": "[encoded data removed]",
      "text/plain": [
       "<Figure size 1600x700 with 1 Axes>"
      ]
     },
     "metadata": {},
     "output_type": "display_data"
    },
    {
     "data": {
      "image/png": "[encoded data removed]",
      "text/plain": [
       "<Figure size 1600x700 with 1 Axes>"
      ]
     },
     "metadata": {},
     "output_type": "display_data"
    }
   ],
   "source": [
    "#plot summary of training accuracy/loss and any signs of overfitting on the data\n",
    "def plot_graph(history,string):\n",
    "    plt.figure(figsize=(16,7))\n",
    "    plt.plot(history.history[string],label=str(string))\n",
    "    plt.plot(history.history[\"val_\"+str(string)],label=str(string))\n",
    "    plt.xlabel(\"Epochs\")\n",
    "    plt.ylabel(string)\n",
    "    plt.legend([string,\"val_\"+string])\n",
    "    plt.show()\n",
    "\n",
    "\n",
    "plot_graph(H,\"accuracy\")\n",
    "plot_graph(H,\"loss\")"
   ]
  },
  {
   "cell_type": "code",
   "execution_count": 23,
   "id": "997772a7",
   "metadata": {},
   "outputs": [
    {
     "data": {
      "text/plain": [
       "{'loss': [0.3314451575279236,\n",
       "  0.11579664051532745,\n",
       "  0.08122121542692184,\n",
       "  0.06295935809612274,\n",
       "  0.060075510293245316,\n",
       "  0.05174453556537628,\n",
       "  0.04908891022205353,\n",
       "  0.03841009736061096,\n",
       "  0.04057542607188225,\n",
       "  0.03815844655036926,\n",
       "  0.030444568023085594,\n",
       "  0.038190968334674835,\n",
       "  0.033621300011873245,\n",
       "  0.031224606558680534,\n",
       "  0.03492069989442825,\n",
       "  0.03018680214881897,\n",
       "  0.03348280116915703,\n",
       "  0.029114283621311188,\n",
       "  0.028766395524144173,\n",
       "  0.028603021055459976],\n",
       " 'accuracy': [0.885769784450531,\n",
       "  0.9691030979156494,\n",
       "  0.9770480394363403,\n",
       "  0.9814618825912476,\n",
       "  0.9835805296897888,\n",
       "  0.9832273721694946,\n",
       "  0.9846398234367371,\n",
       "  0.9874646663665771,\n",
       "  0.9871115684509277,\n",
       "  0.9862288236618042,\n",
       "  0.9909957647323608,\n",
       "  0.9883474707603455,\n",
       "  0.989230215549469,\n",
       "  0.9897598624229431,\n",
       "  0.9874646663665771,\n",
       "  0.990289568901062,\n",
       "  0.990289568901062,\n",
       "  0.991525411605835,\n",
       "  0.9911723136901855,\n",
       "  0.9917019605636597],\n",
       " 'val_loss': [0.12153252959251404,\n",
       "  0.07490243017673492,\n",
       "  0.06054249778389931,\n",
       "  0.057517893612384796,\n",
       "  0.04785166308283806,\n",
       "  0.04511819779872894,\n",
       "  0.043382808566093445,\n",
       "  0.046781931072473526,\n",
       "  0.04142117127776146,\n",
       "  0.038931265473365784,\n",
       "  0.04017512872815132,\n",
       "  0.038988932967185974,\n",
       "  0.037075337022542953,\n",
       "  0.03342792019248009,\n",
       "  0.03333914652466774,\n",
       "  0.0333053320646286,\n",
       "  0.03164968639612198,\n",
       "  0.03403749316930771,\n",
       "  0.03093610890209675,\n",
       "  0.03415827453136444],\n",
       " 'val_accuracy': [0.9740603566169739,\n",
       "  0.9798835515975952,\n",
       "  0.9809423089027405,\n",
       "  0.9804129004478455,\n",
       "  0.9857067465782166,\n",
       "  0.9862360954284668,\n",
       "  0.9894123673439026,\n",
       "  0.9846479892730713,\n",
       "  0.9867655038833618,\n",
       "  0.9883536100387573,\n",
       "  0.9878242611885071,\n",
       "  0.9883536100387573,\n",
       "  0.9883536100387573,\n",
       "  0.9878242611885071,\n",
       "  0.9904711246490479,\n",
       "  0.9920592904090881,\n",
       "  0.9904711246490479,\n",
       "  0.9910005331039429,\n",
       "  0.9904711246490479,\n",
       "  0.9915298819541931]}"
      ]
     },
     "execution_count": 23,
     "metadata": {},
     "output_type": "execute_result"
    }
   ],
   "source": [
    "# A data array of the training loss/Accuracy and validations\n",
    "H.history"
   ]
  },
  {
   "cell_type": "code",
   "execution_count": 24,
   "id": "a8bf64e0",
   "metadata": {},
   "outputs": [
    {
     "data": {
      "text/html": [
       "<div>\n",
       "<style scoped>\n",
       "    .dataframe tbody tr th:only-of-type {\n",
       "        vertical-align: middle;\n",
       "    }\n",
       "\n",
       "    .dataframe tbody tr th {\n",
       "        vertical-align: top;\n",
       "    }\n",
       "\n",
       "    .dataframe thead th {\n",
       "        text-align: right;\n",
       "    }\n",
       "</style>\n",
       "<table border=\"1\" class=\"dataframe\">\n",
       "  <thead>\n",
       "    <tr style=\"text-align: right;\">\n",
       "      <th></th>\n",
       "      <th>loss</th>\n",
       "      <th>accuracy</th>\n",
       "      <th>val_loss</th>\n",
       "      <th>val_accuracy</th>\n",
       "    </tr>\n",
       "  </thead>\n",
       "  <tbody>\n",
       "    <tr>\n",
       "      <th>0</th>\n",
       "      <td>0.331445</td>\n",
       "      <td>0.885770</td>\n",
       "      <td>0.121533</td>\n",
       "      <td>0.974060</td>\n",
       "    </tr>\n",
       "    <tr>\n",
       "      <th>1</th>\n",
       "      <td>0.115797</td>\n",
       "      <td>0.969103</td>\n",
       "      <td>0.074902</td>\n",
       "      <td>0.979884</td>\n",
       "    </tr>\n",
       "    <tr>\n",
       "      <th>2</th>\n",
       "      <td>0.081221</td>\n",
       "      <td>0.977048</td>\n",
       "      <td>0.060542</td>\n",
       "      <td>0.980942</td>\n",
       "    </tr>\n",
       "    <tr>\n",
       "      <th>3</th>\n",
       "      <td>0.062959</td>\n",
       "      <td>0.981462</td>\n",
       "      <td>0.057518</td>\n",
       "      <td>0.980413</td>\n",
       "    </tr>\n",
       "    <tr>\n",
       "      <th>4</th>\n",
       "      <td>0.060076</td>\n",
       "      <td>0.983581</td>\n",
       "      <td>0.047852</td>\n",
       "      <td>0.985707</td>\n",
       "    </tr>\n",
       "    <tr>\n",
       "      <th>5</th>\n",
       "      <td>0.051745</td>\n",
       "      <td>0.983227</td>\n",
       "      <td>0.045118</td>\n",
       "      <td>0.986236</td>\n",
       "    </tr>\n",
       "    <tr>\n",
       "      <th>6</th>\n",
       "      <td>0.049089</td>\n",
       "      <td>0.984640</td>\n",
       "      <td>0.043383</td>\n",
       "      <td>0.989412</td>\n",
       "    </tr>\n",
       "    <tr>\n",
       "      <th>7</th>\n",
       "      <td>0.038410</td>\n",
       "      <td>0.987465</td>\n",
       "      <td>0.046782</td>\n",
       "      <td>0.984648</td>\n",
       "    </tr>\n",
       "    <tr>\n",
       "      <th>8</th>\n",
       "      <td>0.040575</td>\n",
       "      <td>0.987112</td>\n",
       "      <td>0.041421</td>\n",
       "      <td>0.986766</td>\n",
       "    </tr>\n",
       "    <tr>\n",
       "      <th>9</th>\n",
       "      <td>0.038158</td>\n",
       "      <td>0.986229</td>\n",
       "      <td>0.038931</td>\n",
       "      <td>0.988354</td>\n",
       "    </tr>\n",
       "    <tr>\n",
       "      <th>10</th>\n",
       "      <td>0.030445</td>\n",
       "      <td>0.990996</td>\n",
       "      <td>0.040175</td>\n",
       "      <td>0.987824</td>\n",
       "    </tr>\n",
       "    <tr>\n",
       "      <th>11</th>\n",
       "      <td>0.038191</td>\n",
       "      <td>0.988347</td>\n",
       "      <td>0.038989</td>\n",
       "      <td>0.988354</td>\n",
       "    </tr>\n",
       "    <tr>\n",
       "      <th>12</th>\n",
       "      <td>0.033621</td>\n",
       "      <td>0.989230</td>\n",
       "      <td>0.037075</td>\n",
       "      <td>0.988354</td>\n",
       "    </tr>\n",
       "    <tr>\n",
       "      <th>13</th>\n",
       "      <td>0.031225</td>\n",
       "      <td>0.989760</td>\n",
       "      <td>0.033428</td>\n",
       "      <td>0.987824</td>\n",
       "    </tr>\n",
       "    <tr>\n",
       "      <th>14</th>\n",
       "      <td>0.034921</td>\n",
       "      <td>0.987465</td>\n",
       "      <td>0.033339</td>\n",
       "      <td>0.990471</td>\n",
       "    </tr>\n",
       "    <tr>\n",
       "      <th>15</th>\n",
       "      <td>0.030187</td>\n",
       "      <td>0.990290</td>\n",
       "      <td>0.033305</td>\n",
       "      <td>0.992059</td>\n",
       "    </tr>\n",
       "    <tr>\n",
       "      <th>16</th>\n",
       "      <td>0.033483</td>\n",
       "      <td>0.990290</td>\n",
       "      <td>0.031650</td>\n",
       "      <td>0.990471</td>\n",
       "    </tr>\n",
       "    <tr>\n",
       "      <th>17</th>\n",
       "      <td>0.029114</td>\n",
       "      <td>0.991525</td>\n",
       "      <td>0.034037</td>\n",
       "      <td>0.991001</td>\n",
       "    </tr>\n",
       "    <tr>\n",
       "      <th>18</th>\n",
       "      <td>0.028766</td>\n",
       "      <td>0.991172</td>\n",
       "      <td>0.030936</td>\n",
       "      <td>0.990471</td>\n",
       "    </tr>\n",
       "    <tr>\n",
       "      <th>19</th>\n",
       "      <td>0.028603</td>\n",
       "      <td>0.991702</td>\n",
       "      <td>0.034158</td>\n",
       "      <td>0.991530</td>\n",
       "    </tr>\n",
       "  </tbody>\n",
       "</table>\n",
       "</div>"
      ],
      "text/plain": [
       "        loss  accuracy  val_loss  val_accuracy\n",
       "0   0.331445  0.885770  0.121533      0.974060\n",
       "1   0.115797  0.969103  0.074902      0.979884\n",
       "2   0.081221  0.977048  0.060542      0.980942\n",
       "3   0.062959  0.981462  0.057518      0.980413\n",
       "4   0.060076  0.983581  0.047852      0.985707\n",
       "5   0.051745  0.983227  0.045118      0.986236\n",
       "6   0.049089  0.984640  0.043383      0.989412\n",
       "7   0.038410  0.987465  0.046782      0.984648\n",
       "8   0.040575  0.987112  0.041421      0.986766\n",
       "9   0.038158  0.986229  0.038931      0.988354\n",
       "10  0.030445  0.990996  0.040175      0.987824\n",
       "11  0.038191  0.988347  0.038989      0.988354\n",
       "12  0.033621  0.989230  0.037075      0.988354\n",
       "13  0.031225  0.989760  0.033428      0.987824\n",
       "14  0.034921  0.987465  0.033339      0.990471\n",
       "15  0.030187  0.990290  0.033305      0.992059\n",
       "16  0.033483  0.990290  0.031650      0.990471\n",
       "17  0.029114  0.991525  0.034037      0.991001\n",
       "18  0.028766  0.991172  0.030936      0.990471\n",
       "19  0.028603  0.991702  0.034158      0.991530"
      ]
     },
     "execution_count": 24,
     "metadata": {},
     "output_type": "execute_result"
    }
   ],
   "source": [
    "# A clean data table of the training loss/Accuracy and validations \n",
    "loss_df = pd.DataFrame(H.history)\n",
    "loss_df"
   ]
  },
  {
   "cell_type": "code",
   "execution_count": 25,
   "id": "67768821",
   "metadata": {},
   "outputs": [],
   "source": [
    "#The Start of the Facial Recognition Application\n",
    "#The Directory path of the face identification being recognized\n",
    "img_path = str(cwd) + \"//Recog_Train\""
   ]
  },
  {
   "cell_type": "code",
   "execution_count": 26,
   "id": "e7739f26",
   "metadata": {},
   "outputs": [],
   "source": [
    "#Initialization of face images and face names, known encoding images and names\n",
    "images = []\n",
    "class_names = []\n",
    "encode_list = []\n",
    "encode_list_cl = []\n",
    "#myList = os.listdir(img_path)"
   ]
  },
  {
   "cell_type": "code",
   "execution_count": 27,
   "id": "7cff6aa4",
   "metadata": {},
   "outputs": [],
   "source": [
    "#Loop over the image paths\n",
    "for subdir in os.listdir(img_path):\n",
    "    #Aquire subdirectory where indivitual person images are\n",
    "    path = img_path + '/' + subdir\n",
    "    path = path + '/'\n",
    "    for img in os.listdir(path):\n",
    "        #Extract the person name and image from the image path subdirectory\n",
    "        img_pic = path + img\n",
    "        class_names.append(subdir)\n",
    "        #Load the person image and convert it from BRG (OpenCV ordering)\n",
    "        cur_img = cv2.imread(img_pic)\n",
    "        #To dlib ordering (RGB)\n",
    "        cur_img = cv2.cvtColor(cur_img , cv2.COLOR_BGR2RGB)\n",
    "        images.append(cur_img)"
   ]
  },
  {
   "cell_type": "code",
   "execution_count": 28,
   "id": "1a12ab7c",
   "metadata": {},
   "outputs": [],
   "source": [
    "#frame: A frame from our stream\n",
    "#faceNet: The model used to detect where in the image faces are\n",
    "#maskNet: Our COVID-19 face mask classifier model\n",
    "\n",
    "def detect_and_predict_mask(frame, faceNet, maskNet,threshold):\n",
    "\t# grab the dimensions of the frame and then construct a blob\n",
    "\t# from it\n",
    "\tglobal detections \n",
    "\t(h, w) = frame.shape[:2]\n",
    "    #Blob from image (image, scalefactor=1.0, size, mean)\n",
    "\tblob = cv2.dnn.blobFromImage(frame, 1.0, (300, 300),(104.0, 177.0, 123.0))\n",
    "\t# pass the blob through the network and obtain the face detections\n",
    "\tfaceNet.setInput(blob)\n",
    "\tdetections = faceNet.forward()\n",
    "\n",
    "\t# initialize our list of faces, their corresponding locations,\n",
    "\t# and the list of predictions from our face mask network\n",
    "\tfaces = []\n",
    "\tlocs = []\n",
    "\tpreds = []\n",
    "\t# loop over the detections\n",
    "\tfor i in range(0, detections.shape[2]):\n",
    "\t\t# extract the confidence (i.e., probability) associated with\n",
    "\t\tconfidence = detections[0, 0, i, 2]\n",
    "\n",
    "\t\t# filter out weak detections by ensuring the confidence is\n",
    "\t\t# greater than the minimum confidence\n",
    "\t\tif confidence >threshold:\n",
    "\t\t\t# compute the (x, y)-coordinates of the bounding box for\n",
    "\t\t\t# the object\n",
    "\t\t\tbox = detections[0, 0, i, 3:7] * np.array([w, h, w, h])\n",
    "\t\t\t(startX, startY, endX, endY) = box.astype(\"int\")\n",
    "\n",
    "\t\t\t# ensure the bounding boxes fall within the dimensions of\n",
    "\t\t\t# the frame\n",
    "\t\t\t(startX, startY) = (max(0, startX), max(0, startY))\n",
    "\t\t\t(endX, endY) = (min(w - 1, endX), min(h - 1, endY))\n",
    "\n",
    "\t\t\t# extract the face ROI, convert it from BGR to RGB channel\n",
    "\t\t\t# ordering, resize it to 224x224, and preprocess it\n",
    "\t\t\tface = frame[startY:endY, startX:endX]\n",
    "\t\t\tface = cv2.cvtColor(face, cv2.COLOR_BGR2RGB)\n",
    "\t\t\tface = cv2.resize(face, (224, 224))\n",
    "\t\t\tface = img_to_array(face)\n",
    "\t\t\tface = preprocess_input(face)\n",
    "\t\t\tface = np.expand_dims(face, axis=0)\n",
    "            \n",
    "\t\t\t# add the face and bounding boxes to their respective\n",
    "\t\t\t# lists\n",
    "\t\t\tlocs.append((startX, startY, endX, endY))\n",
    "\t\t\t#print(maskNet.predict(face)[0].tolist())\n",
    "\t\t\tpreds.append(maskNet.predict(face)[0].tolist())\n",
    "\treturn (locs, preds)"
   ]
  },
  {
   "cell_type": "code",
   "execution_count": 29,
   "id": "4abf98e6",
   "metadata": {},
   "outputs": [],
   "source": [
    "# Directory path for face mask model \n",
    "MASK_MODEL_PATH=os.getcwd()+\"\\\\model\\\\mask_model.h5\"\n",
    "#FACE_MODEL_PATH=str(cwd)+\"\\\\masksdetection-master\\\\face_detector\"\n",
    "#CONFIG_PATH=str(cwd)+\"\\\\masksdetection-master\\\\face_detector\"\n",
    "THRESHOLD = 0.5"
   ]
  },
  {
   "cell_type": "code",
   "execution_count": 30,
   "id": "28419235",
   "metadata": {},
   "outputs": [],
   "source": [
    "#Library to join the faceNet folder path\n",
    "from os.path import dirname, join"
   ]
  },
  {
   "cell_type": "code",
   "execution_count": 31,
   "id": "a4822a11",
   "metadata": {},
   "outputs": [
    {
     "data": {
      "text/plain": [
       "'C:\\\\Users\\\\alrab\\\\OneDrive\\\\Documents\\\\GitHub\\\\Face_Mask_Recog_Project'"
      ]
     },
     "execution_count": 31,
     "metadata": {},
     "output_type": "execute_result"
    }
   ],
   "source": [
    "current_folder = globals()['_dh'][0]\n",
    "current_folder"
   ]
  },
  {
   "cell_type": "code",
   "execution_count": 32,
   "id": "76c1d53c",
   "metadata": {},
   "outputs": [],
   "source": [
    "#Config file for the faceNet model\n",
    "#The .prototxt file(s) which define the model architecture (i.e., the layers themselves)\n",
    "protoPath = join(current_folder, \"deploy.prototxt\")\n",
    "#The .caffemodel file which contains the weights for the actual layers\n",
    "weightsPath = join(current_folder, \"res10_300x300_ssd_iter_140000.caffemodel\")"
   ]
  },
  {
   "cell_type": "code",
   "execution_count": 33,
   "id": "a36634c0",
   "metadata": {},
   "outputs": [
    {
     "name": "stdout",
     "output_type": "stream",
     "text": [
      "[INFO] loading face detector model...\n",
      "[INFO] loading face mask detector model...\n"
     ]
    }
   ],
   "source": [
    "# load our serialized face detector model from disk\n",
    "#Single Shot Detector (SSD) framework with a ResNet base network\n",
    "print(\"[INFO] loading face detector model...\")\n",
    "faceNet = cv2.dnn.readNet(protoPath, weightsPath)\n",
    "\n",
    "# load the face mask detector model from disk\n",
    "print(\"[INFO] loading face mask detector model...\")\n",
    "maskNet = load_model(MASK_MODEL_PATH)"
   ]
  },
  {
   "cell_type": "code",
   "execution_count": 34,
   "id": "4ab58c40",
   "metadata": {},
   "outputs": [
    {
     "name": "stdout",
     "output_type": "stream",
     "text": [
      "[INFO] starting video stream...\n"
     ]
    }
   ],
   "source": [
    "# initialize the video stream and allow the camera sensor to warm up\n",
    "print(\"[INFO] starting video stream...\")\n",
    "vs = VideoStream(0).start()\n",
    "time.sleep(2.0)\n",
    "        \n",
    "def find_encodings(images) :\n",
    "    \n",
    "        # loop over the face images\n",
    "        for img in images : \n",
    "            \n",
    "            # compute the facial embedding for the face\n",
    "            encodings = face_recognition.face_encodings(img)[0]\n",
    "            \n",
    "            #add each encoding to our set of encodings\n",
    "            encode_list.append(encodings)\n",
    "       \n",
    "        return encode_list\n",
    "    \n",
    "encodeListKnown = find_encodings(images)\n",
    " \n",
    "cap = cv2.VideoCapture(0)"
   ]
  },
  {
   "cell_type": "code",
   "execution_count": null,
   "id": "5e914446",
   "metadata": {},
   "outputs": [
    {
     "name": "stdout",
     "output_type": "stream",
     "text": [
      "1/1 [==============================] - 2s 2s/step\n",
      "1/1 [==============================] - 0s 73ms/step\n",
      "1/1 [==============================] - 0s 44ms/step\n",
      "1/1 [==============================] - 0s 39ms/step\n",
      "1/1 [==============================] - 0s 44ms/step\n",
      "1/1 [==============================] - 0s 32ms/step\n",
      "1/1 [==============================] - 0s 31ms/step\n",
      "1/1 [==============================] - 0s 22ms/step\n",
      "1/1 [==============================] - 0s 30ms/step\n",
      "1/1 [==============================] - 0s 34ms/step\n",
      "1/1 [==============================] - 0s 37ms/step\n",
      "1/1 [==============================] - 0s 35ms/step\n",
      "1/1 [==============================] - 0s 33ms/step\n",
      "1/1 [==============================] - 0s 34ms/step\n",
      "1/1 [==============================] - 0s 25ms/step\n",
      "1/1 [==============================] - 0s 37ms/step\n",
      "1/1 [==============================] - 0s 29ms/step\n",
      "1/1 [==============================] - 0s 33ms/step\n",
      "1/1 [==============================] - 0s 28ms/step\n",
      "1/1 [==============================] - 0s 31ms/step\n",
      "1/1 [==============================] - 0s 32ms/step\n",
      "1/1 [==============================] - 0s 28ms/step\n",
      "1/1 [==============================] - 0s 36ms/step\n",
      "1/1 [==============================] - 0s 38ms/step\n",
      "1/1 [==============================] - 0s 37ms/step\n",
      "1/1 [==============================] - 0s 31ms/step\n",
      "1/1 [==============================] - 0s 33ms/step\n",
      "1/1 [==============================] - 0s 28ms/step\n",
      "1/1 [==============================] - 0s 31ms/step\n",
      "1/1 [==============================] - 0s 29ms/step\n",
      "1/1 [==============================] - 0s 46ms/step\n",
      "1/1 [==============================] - 0s 34ms/step\n",
      "1/1 [==============================] - 0s 31ms/step\n",
      "1/1 [==============================] - 0s 32ms/step\n",
      "1/1 [==============================] - 0s 37ms/step\n",
      "1/1 [==============================] - 0s 38ms/step\n",
      "1/1 [==============================] - 0s 33ms/step\n",
      "1/1 [==============================] - 0s 34ms/step\n",
      "1/1 [==============================] - 0s 41ms/step\n",
      "1/1 [==============================] - 0s 32ms/step\n",
      "1/1 [==============================] - 0s 32ms/step\n",
      "1/1 [==============================] - 0s 32ms/step\n",
      "1/1 [==============================] - 0s 35ms/step\n",
      "1/1 [==============================] - 0s 42ms/step\n",
      "1/1 [==============================] - 0s 35ms/step\n",
      "1/1 [==============================] - 0s 33ms/step\n",
      "1/1 [==============================] - 0s 32ms/step\n",
      "1/1 [==============================] - 0s 40ms/step\n",
      "1/1 [==============================] - 0s 32ms/step\n",
      "1/1 [==============================] - 0s 36ms/step\n",
      "1/1 [==============================] - 0s 39ms/step\n",
      "1/1 [==============================] - 0s 30ms/step\n",
      "1/1 [==============================] - 0s 33ms/step\n",
      "1/1 [==============================] - 0s 38ms/step\n",
      "1/1 [==============================] - 0s 30ms/step\n",
      "1/1 [==============================] - 0s 33ms/step\n",
      "1/1 [==============================] - 0s 34ms/step\n",
      "1/1 [==============================] - 0s 31ms/step\n",
      "1/1 [==============================] - 0s 32ms/step\n",
      "1/1 [==============================] - 0s 29ms/step\n",
      "1/1 [==============================] - 0s 43ms/step\n",
      "1/1 [==============================] - 0s 32ms/step\n",
      "1/1 [==============================] - 0s 29ms/step\n",
      "1/1 [==============================] - 0s 29ms/step\n",
      "1/1 [==============================] - 0s 36ms/step\n",
      "1/1 [==============================] - 0s 34ms/step\n",
      "1/1 [==============================] - 0s 30ms/step\n",
      "1/1 [==============================] - 0s 38ms/step\n",
      "1/1 [==============================] - 0s 30ms/step\n",
      "1/1 [==============================] - 0s 22ms/step\n",
      "1/1 [==============================] - 0s 43ms/step\n",
      "1/1 [==============================] - 0s 38ms/step\n",
      "1/1 [==============================] - 0s 33ms/step\n",
      "1/1 [==============================] - 0s 35ms/step\n",
      "1/1 [==============================] - 0s 33ms/step\n",
      "1/1 [==============================] - 0s 39ms/step\n",
      "1/1 [==============================] - 0s 36ms/step\n",
      "1/1 [==============================] - 0s 36ms/step\n",
      "1/1 [==============================] - 0s 31ms/step\n",
      "1/1 [==============================] - 0s 36ms/step\n",
      "1/1 [==============================] - 0s 33ms/step\n",
      "1/1 [==============================] - 0s 27ms/step\n",
      "1/1 [==============================] - 0s 27ms/step\n",
      "1/1 [==============================] - 0s 39ms/step\n",
      "1/1 [==============================] - 0s 40ms/step\n",
      "1/1 [==============================] - 0s 50ms/step\n",
      "1/1 [==============================] - 0s 49ms/step\n",
      "1/1 [==============================] - 0s 51ms/step\n",
      "1/1 [==============================] - 0s 46ms/step\n",
      "1/1 [==============================] - 0s 51ms/step\n",
      "1/1 [==============================] - 0s 50ms/step\n",
      "1/1 [==============================] - 0s 54ms/step\n",
      "1/1 [==============================] - 0s 56ms/step\n",
      "1/1 [==============================] - 0s 32ms/step\n",
      "1/1 [==============================] - 0s 29ms/step\n",
      "1/1 [==============================] - 0s 43ms/step\n",
      "1/1 [==============================] - 0s 31ms/step\n",
      "1/1 [==============================] - 0s 39ms/step\n",
      "1/1 [==============================] - 0s 27ms/step\n",
      "1/1 [==============================] - 0s 41ms/step\n",
      "1/1 [==============================] - 0s 43ms/step\n",
      "1/1 [==============================] - 0s 46ms/step\n",
      "1/1 [==============================] - 0s 34ms/step\n",
      "1/1 [==============================] - 0s 39ms/step\n",
      "1/1 [==============================] - 0s 41ms/step\n",
      "1/1 [==============================] - 0s 45ms/step\n",
      "1/1 [==============================] - 0s 45ms/step\n",
      "1/1 [==============================] - 0s 34ms/step\n",
      "1/1 [==============================] - 0s 40ms/step\n",
      "1/1 [==============================] - 0s 33ms/step\n",
      "1/1 [==============================] - 0s 38ms/step\n",
      "1/1 [==============================] - 0s 43ms/step\n",
      "1/1 [==============================] - 0s 43ms/step\n",
      "1/1 [==============================] - 0s 45ms/step\n",
      "1/1 [==============================] - 0s 45ms/step\n",
      "1/1 [==============================] - 0s 45ms/step\n",
      "1/1 [==============================] - 0s 53ms/step\n",
      "1/1 [==============================] - 0s 50ms/step\n",
      "1/1 [==============================] - 0s 43ms/step\n",
      "1/1 [==============================] - 0s 46ms/step\n",
      "1/1 [==============================] - 0s 47ms/step\n",
      "1/1 [==============================] - 0s 37ms/step\n",
      "1/1 [==============================] - 0s 40ms/step\n",
      "1/1 [==============================] - 0s 46ms/step\n",
      "1/1 [==============================] - 0s 49ms/step\n",
      "1/1 [==============================] - 0s 41ms/step\n",
      "1/1 [==============================] - 0s 53ms/step\n",
      "1/1 [==============================] - 0s 47ms/step\n",
      "1/1 [==============================] - 0s 54ms/step\n",
      "1/1 [==============================] - 0s 43ms/step\n",
      "1/1 [==============================] - 0s 48ms/step\n",
      "1/1 [==============================] - 0s 44ms/step\n",
      "1/1 [==============================] - 0s 41ms/step\n",
      "1/1 [==============================] - 0s 30ms/step\n",
      "1/1 [==============================] - 0s 40ms/step\n",
      "1/1 [==============================] - 0s 40ms/step\n",
      "1/1 [==============================] - 0s 40ms/step\n",
      "1/1 [==============================] - 0s 32ms/step\n",
      "1/1 [==============================] - 0s 30ms/step\n",
      "1/1 [==============================] - 0s 30ms/step\n",
      "1/1 [==============================] - 0s 31ms/step\n",
      "1/1 [==============================] - 0s 32ms/step\n",
      "1/1 [==============================] - 0s 33ms/step\n",
      "1/1 [==============================] - 0s 29ms/step\n",
      "1/1 [==============================] - 0s 33ms/step\n",
      "1/1 [==============================] - 0s 36ms/step\n",
      "1/1 [==============================] - 0s 35ms/step\n",
      "1/1 [==============================] - 0s 30ms/step\n",
      "1/1 [==============================] - 0s 35ms/step\n",
      "1/1 [==============================] - 0s 36ms/step\n",
      "1/1 [==============================] - 0s 32ms/step\n",
      "1/1 [==============================] - 0s 31ms/step\n",
      "1/1 [==============================] - 0s 30ms/step\n",
      "1/1 [==============================] - 0s 37ms/step\n",
      "1/1 [==============================] - 0s 31ms/step\n",
      "1/1 [==============================] - 0s 34ms/step\n",
      "1/1 [==============================] - 0s 38ms/step\n"
     ]
    },
    {
     "name": "stdout",
     "output_type": "stream",
     "text": [
      "1/1 [==============================] - 0s 36ms/step\n",
      "1/1 [==============================] - 0s 35ms/step\n",
      "1/1 [==============================] - 0s 28ms/step\n",
      "1/1 [==============================] - 0s 29ms/step\n",
      "1/1 [==============================] - 0s 36ms/step\n",
      "1/1 [==============================] - 0s 26ms/step\n",
      "1/1 [==============================] - 0s 26ms/step\n",
      "1/1 [==============================] - 0s 28ms/step\n",
      "1/1 [==============================] - 0s 28ms/step\n",
      "1/1 [==============================] - 0s 35ms/step\n",
      "1/1 [==============================] - 0s 38ms/step\n",
      "1/1 [==============================] - 0s 40ms/step\n",
      "1/1 [==============================] - 0s 33ms/step\n",
      "1/1 [==============================] - 0s 42ms/step\n",
      "1/1 [==============================] - 0s 44ms/step\n",
      "1/1 [==============================] - 0s 48ms/step\n",
      "1/1 [==============================] - 0s 39ms/step\n",
      "1/1 [==============================] - 0s 44ms/step\n",
      "1/1 [==============================] - 0s 70ms/step\n",
      "1/1 [==============================] - 0s 36ms/step\n",
      "1/1 [==============================] - 0s 38ms/step\n",
      "1/1 [==============================] - 0s 43ms/step\n",
      "1/1 [==============================] - 0s 33ms/step\n",
      "1/1 [==============================] - 0s 30ms/step\n",
      "1/1 [==============================] - 0s 35ms/step\n",
      "1/1 [==============================] - 0s 33ms/step\n",
      "1/1 [==============================] - 0s 30ms/step\n",
      "1/1 [==============================] - 0s 38ms/step\n",
      "1/1 [==============================] - 0s 36ms/step\n",
      "1/1 [==============================] - 0s 31ms/step\n",
      "1/1 [==============================] - 0s 33ms/step\n",
      "1/1 [==============================] - 0s 31ms/step\n",
      "1/1 [==============================] - 0s 28ms/step\n",
      "1/1 [==============================] - 0s 37ms/step\n",
      "1/1 [==============================] - 0s 32ms/step\n",
      "1/1 [==============================] - 0s 38ms/step\n",
      "1/1 [==============================] - 0s 37ms/step\n",
      "1/1 [==============================] - 0s 31ms/step\n",
      "1/1 [==============================] - 0s 28ms/step\n",
      "1/1 [==============================] - 0s 42ms/step\n",
      "1/1 [==============================] - 0s 38ms/step\n",
      "1/1 [==============================] - 0s 31ms/step\n",
      "1/1 [==============================] - 0s 33ms/step\n",
      "1/1 [==============================] - 0s 28ms/step\n",
      "1/1 [==============================] - 0s 34ms/step\n",
      "1/1 [==============================] - 0s 37ms/step\n",
      "1/1 [==============================] - 0s 41ms/step\n",
      "1/1 [==============================] - 0s 40ms/step\n",
      "1/1 [==============================] - 0s 36ms/step\n",
      "1/1 [==============================] - 0s 42ms/step\n",
      "1/1 [==============================] - 0s 38ms/step\n",
      "1/1 [==============================] - 0s 42ms/step\n"
     ]
    }
   ],
   "source": [
    "# loop over the frames from the video stream\n",
    "while True : \n",
    "    #Capturing image from the video stream,then resize and color conversion using openCV libraries \n",
    "    success , img = cap.read()\n",
    "    imgs = cv2.resize(img,(0,0),None,0.25,0.25)\n",
    "    imgs = cv2.cvtColor(imgs , cv2.COLOR_BGR2RGB)\n",
    "    \n",
    "    #Getting the location of the face mask boundaries\n",
    "    #and the predection of With/Without Mask\n",
    "    (locs, preds) = detect_and_predict_mask(imgs, faceNet, maskNet,THRESHOLD)\n",
    "    \n",
    "    #Getting the location of the face box (the actual boundaries) from the video stream \n",
    "    facesCurFrame = face_recognition.face_locations(imgs)\n",
    "    \n",
    "    #Getting the face encodings from any faces in the video stram\n",
    "    encodeCurFrame  = face_recognition.face_encodings(imgs,facesCurFrame)\n",
    "    \n",
    "    for encodeFace , faceLoc , pred in zip(encodeCurFrame,facesCurFrame ,preds):\n",
    "        \n",
    "        # Obtaining the classification label along with the associated probability\n",
    "        (mask, withoutMask) = pred\n",
    "        label = \"Mask\" if mask > withoutMask else \"No Mask\"\n",
    "        \n",
    "        #Color the label Red No Mask,Green with Mask\n",
    "        color = (0, 255, 0) if label == \"Mask\" else (0, 0, 255)\n",
    "        label = \"{}: {:.2f}%\".format(label, max(mask, withoutMask) * 100)\n",
    "        \n",
    "        #Comparing the face encoding from the video stream to the known list of encodings\n",
    "        matches = face_recognition.compare_faces(encode_list, encodeFace)\n",
    "        \n",
    "        #Get a distance between face encoding from the video stream to the known list of encodings key points.\n",
    "        #Lower distance means better match\n",
    "        faceDis = face_recognition.face_distance(encode_list, encodeFace)\n",
    "        \n",
    "        #Returns the index of the lowest distance face point and stores it in the matchIndex variable.\n",
    "        matchIndex = np.argmin(faceDis)\n",
    "        \n",
    "        #Grab the element from the class_Names list of the same matching index\n",
    "        name = class_names[matchIndex]\n",
    "        color = (0, 255, 0) if label == \"Mask\" else (0, 0, 255)\n",
    " \n",
    "       #Draw a rectangle over the detected faces\n",
    "        y1,x2,y2,x1 = faceLoc\n",
    "        y1,x2,y2,x1 = y1*4 , x2*4 , y2*4 , x1*4\n",
    "        \n",
    "        #Draw the mask label with the \"known\" or \"unknown\" person name below the face\n",
    "        cv2.rectangle(img,(x1,y1),(x2,y2),color,2)\n",
    "        cv2.rectangle(img,(x1,y2-35),(x2,y2),color, cv2.FILLED)\n",
    "        cv2.putText(img, name, (x1+6 , y2 - 6),cv2.FONT_HERSHEY_COMPLEX,1,(255,255,255),2 )\n",
    "        cv2.putText(img, label, (x1 , y2+10) , cv2.FONT_HERSHEY_COMPLEX , 1 , (255,0,255) , 2)\n",
    "        \n",
    "        \n",
    "        cv2.imshow('Face Mask Recognition Project' , img)\n",
    "        \n",
    "        key = cv2.waitKey(1) & 0xFF\n",
    "        \n",
    "        if key == ord(\"q\"):\n",
    "            break\n",
    "        \n",
    "cv2.destroyAllWindows()\n",
    "vs.stop()"
   ]
  }
 ],
 "metadata": {
  "kernelspec": {
   "display_name": "Python 3 (ipykernel)",
   "language": "python",
   "name": "python3"
  },
  "language_info": {
   "codemirror_mode": {
    "name": "ipython",
    "version": 3
   },
   "file_extension": ".py",
   "mimetype": "text/x-python",
   "name": "python",
   "nbconvert_exporter": "python",
   "pygments_lexer": "ipython3",
   "version": "3.8.13"
  }
 },
 "nbformat": 4,
 "nbformat_minor": 5
}
