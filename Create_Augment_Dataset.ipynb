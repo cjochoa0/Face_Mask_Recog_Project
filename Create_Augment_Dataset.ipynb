{
 "cells": [
  {
   "cell_type": "code",
   "execution_count": 9,
   "id": "5b6db3cc",
   "metadata": {},
   "outputs": [],
   "source": [
    "import os\n",
    "from os import listdir\n",
    "import sys\n",
    "import random\n",
    "import argparse\n",
    "import numpy as np\n",
    "from PIL import Image, ImageFile\n",
    "import face_recognition\n"
   ]
  },
  {
   "cell_type": "code",
   "execution_count": 3,
   "id": "77ae1794",
   "metadata": {},
   "outputs": [],
   "source": [
    "__version__ = '0.3.0'"
   ]
  },
  {
   "cell_type": "code",
   "execution_count": 4,
   "id": "a12a25ba",
   "metadata": {},
   "outputs": [],
   "source": [
    "IMAGE_DIR = os.getcwd()+\"\\\\masksdetection-master\\\\images\"\n",
    "MASK_IMAGES=[\"default-mask.png\",\"black-mask.png\",\"blue-mask.png\"]\n",
    "MASK_IMAGE_PATHS =[os.path.join(IMAGE_DIR, mask_image) for mask_image in MASK_IMAGES] \n",
    "FACE_FOLDER_PATH=os.getcwd()+\"\\\\masksdetection-master\\\\dataset\\\\without_mask\"\n",
    "AUGMENTED_MASK_PATH=os.getcwd()+\"\\\\masksdetection-master\\\\dataset\\\\with_mask\""
   ]
  },
  {
   "cell_type": "code",
   "execution_count": 5,
   "id": "60967113",
   "metadata": {},
   "outputs": [],
   "source": [
    "def create_mask(face_path,mask_path,augmented_mask_path,color):\n",
    "    show = False\n",
    "    model = \"hog\"\n",
    "    FaceMasker(face_path, mask_path,augmented_mask_path,color=color).mask()"
   ]
  },
  {
   "cell_type": "code",
   "execution_count": 11,
   "id": "ec994d60",
   "metadata": {},
   "outputs": [],
   "source": [
    "class FaceMasker:\n",
    "    KEY_FACIAL_FEATURES = ('nose_bridge', 'chin')\n",
    "    \n",
    "    def __init__(self, face_path, mask_path,augmented_mask_path, show=False, model='hog',color=\"default\"):\n",
    "        self.face_path = face_path\n",
    "        self.mask_path = mask_path\n",
    "        self.show = show\n",
    "        self.model = model\n",
    "        self.augmented_mask_path=augmented_mask_path\n",
    "        self._face_img: ImageFile = None\n",
    "        self._mask_img: ImageFile = None\n",
    "        self.color=color\n",
    "        \n",
    "    def mask(self):\n",
    "        face_image_np = face_recognition.load_image_file(self.face_path)\n",
    "        face_locations = face_recognition.face_locations(face_image_np, model=self.model)\n",
    "        face_landmarks = face_recognition.face_landmarks(face_image_np, face_locations)\n",
    "        self._face_img = Image.fromarray(face_image_np)\n",
    "        self._mask_img = Image.open(self.mask_path).convert(\"RGBA\")\n",
    "        found_face = False\n",
    "        for face_landmark in face_landmarks:\n",
    "            # check whether facial features meet requirement\n",
    "            skip = False\n",
    "            for facial_feature in self.KEY_FACIAL_FEATURES:\n",
    "                if facial_feature not in face_landmark:\n",
    "                    skip = True\n",
    "                    break\n",
    "            if skip:\n",
    "                continue\n",
    "            # mask face\n",
    "            found_face = True\n",
    "            self._mask_face(face_landmark)\n",
    "\n",
    "        if found_face:\n",
    "            if self.show:\n",
    "                self._face_img.show()\n",
    "            # save\n",
    "            self._save()\n",
    "        else:\n",
    "            print('Found no face.')\n",
    "            \n",
    "    def _mask_face(self, face_landmark: dict):\n",
    "        nose_bridge = face_landmark['nose_bridge']\n",
    "        nose_point = nose_bridge[len(nose_bridge) * 1 // 4]\n",
    "        nose_v = np.array(nose_point)\n",
    "\n",
    "        chin = face_landmark['chin']\n",
    "        chin_len = len(chin)\n",
    "        chin_bottom_point = chin[chin_len // 2]\n",
    "        chin_bottom_v = np.array(chin_bottom_point)\n",
    "        chin_left_point = chin[chin_len // 8]\n",
    "        chin_right_point = chin[chin_len * 7 // 8]\n",
    "\n",
    "        # split mask and resize\n",
    "        width = self._mask_img.width\n",
    "        height = self._mask_img.height\n",
    "        width_ratio = 1.2\n",
    "        new_height = int(np.linalg.norm(nose_v - chin_bottom_v))\n",
    "\n",
    "        # left\n",
    "        mask_left_img = self._mask_img.crop((0, 0, width // 2, height))\n",
    "        mask_left_width = self.get_distance_from_point_to_line(chin_left_point, nose_point, chin_bottom_point)\n",
    "        mask_left_width = int(mask_left_width * width_ratio)\n",
    "        mask_left_img = mask_left_img.resize((mask_left_width, new_height))\n",
    "\n",
    "        # right\n",
    "        mask_right_img = self._mask_img.crop((width // 2, 0, width, height))\n",
    "        mask_right_width = self.get_distance_from_point_to_line(chin_right_point, nose_point, chin_bottom_point)\n",
    "        mask_right_width = int(mask_right_width * width_ratio)\n",
    "        mask_right_img = mask_right_img.resize((mask_right_width, new_height))\n",
    "\n",
    "        # merge mask\n",
    "        size = (mask_left_img.width + mask_right_img.width, new_height)\n",
    "        mask_img = Image.new('RGBA', size)\n",
    "        mask_img.paste(mask_left_img, (0, 0), mask_left_img)\n",
    "        mask_img.paste(mask_right_img, (mask_left_img.width, 0), mask_right_img)\n",
    "\n",
    "        # rotate mask\n",
    "        angle = np.arctan2(chin_bottom_point[1] - nose_point[1], chin_bottom_point[0] - nose_point[0])\n",
    "        rotated_mask_img = mask_img.rotate(angle, expand=True)\n",
    "\n",
    "        # calculate mask location\n",
    "        center_x = (nose_point[0] + chin_bottom_point[0]) // 2\n",
    "        center_y = (nose_point[1] + chin_bottom_point[1]) // 2\n",
    "\n",
    "        offset = mask_img.width // 2 - mask_left_img.width\n",
    "        radian = angle * np.pi / 180\n",
    "        box_x = center_x + int(offset * np.cos(radian)) - rotated_mask_img.width // 2\n",
    "        box_y = center_y + int(offset * np.sin(radian)) - rotated_mask_img.height // 2\n",
    "\n",
    "        # add mask\n",
    "        self._face_img.paste(mask_img, (box_x, box_y), mask_img)\n",
    "\n",
    "    def _save(self):\n",
    "        new_face_path=self.augmented_mask_path+\"\\\\with-mask-\"+self.color+\"-\"+self.face_path.split(\"\\\\\")[-1]\n",
    "        self._face_img.save(new_face_path)\n",
    "        print(f'Save to {new_face_path}')\n",
    "\n",
    "    @staticmethod\n",
    "    def get_distance_from_point_to_line(point, line_point1, line_point2):\n",
    "        distance = np.abs((line_point2[1] - line_point1[1]) * point[0] +\n",
    "                          (line_point1[0] - line_point2[0]) * point[1] +\n",
    "                          (line_point2[0] - line_point1[0]) * line_point1[1] +\n",
    "                          (line_point1[1] - line_point2[1]) * line_point1[0]) / \\\n",
    "                   np.sqrt((line_point2[1] - line_point1[1]) * (line_point2[1] - line_point1[1]) +\n",
    "                           (line_point1[0] - line_point2[0]) * (line_point1[0] - line_point2[0]))\n",
    "        return int(distance)"
   ]
  },
  {
   "cell_type": "code",
   "execution_count": 13,
   "id": "24512c10",
   "metadata": {},
   "outputs": [
    {
     "name": "stdout",
     "output_type": "stream",
     "text": [
      "face image path:  C:\\Users\\Coope\\Documents\\FacerecoProject\\Mask-Face-recog-Project\\dataset\\without_mask\\0.jpg\n"
     ]
    },
    {
     "ename": "FileNotFoundError",
     "evalue": "[Errno 2] No such file or directory: 'C:\\\\Users\\\\Coope\\\\Documents\\\\FacerecoProject\\\\Mask-Face-recog-Project\\\\dataset\\\\without_mask\\\\0.jpg'",
     "output_type": "error",
     "traceback": [
      "\u001b[1;31m---------------------------------------------------------------------------\u001b[0m",
      "\u001b[1;31mFileNotFoundError\u001b[0m                         Traceback (most recent call last)",
      "\u001b[1;32m~\\AppData\\Local\\Temp\\ipykernel_8800\\164285635.py\u001b[0m in \u001b[0;36m<module>\u001b[1;34m\u001b[0m\n\u001b[0;32m      4\u001b[0m     \u001b[1;32mfor\u001b[0m \u001b[0mFACE_IMAGE_PATH\u001b[0m \u001b[1;32min\u001b[0m \u001b[0mFACE_IMAGE_PATHS\u001b[0m\u001b[1;33m:\u001b[0m\u001b[1;33m\u001b[0m\u001b[1;33m\u001b[0m\u001b[0m\n\u001b[0;32m      5\u001b[0m         \u001b[0mprint\u001b[0m\u001b[1;33m(\u001b[0m\u001b[1;34m\"face image path: \"\u001b[0m\u001b[1;33m,\u001b[0m\u001b[0mFACE_IMAGE_PATH\u001b[0m\u001b[1;33m)\u001b[0m\u001b[1;33m\u001b[0m\u001b[1;33m\u001b[0m\u001b[0m\n\u001b[1;32m----> 6\u001b[1;33m         \u001b[0mcreate_mask\u001b[0m\u001b[1;33m(\u001b[0m\u001b[0mFACE_IMAGE_PATH\u001b[0m\u001b[1;33m,\u001b[0m\u001b[0mMASK_IMAGE_PATH\u001b[0m \u001b[1;33m,\u001b[0m\u001b[0mAUGMENTED_MASK_PATH\u001b[0m\u001b[1;33m,\u001b[0m\u001b[0mCOLOR\u001b[0m\u001b[1;33m)\u001b[0m\u001b[1;33m\u001b[0m\u001b[1;33m\u001b[0m\u001b[0m\n\u001b[0m",
      "\u001b[1;32m~\\AppData\\Local\\Temp\\ipykernel_8800\\2796264189.py\u001b[0m in \u001b[0;36mcreate_mask\u001b[1;34m(face_path, mask_path, augmented_mask_path, color)\u001b[0m\n\u001b[0;32m      2\u001b[0m     \u001b[0mshow\u001b[0m \u001b[1;33m=\u001b[0m \u001b[1;32mFalse\u001b[0m\u001b[1;33m\u001b[0m\u001b[1;33m\u001b[0m\u001b[0m\n\u001b[0;32m      3\u001b[0m     \u001b[0mmodel\u001b[0m \u001b[1;33m=\u001b[0m \u001b[1;34m\"hog\"\u001b[0m\u001b[1;33m\u001b[0m\u001b[1;33m\u001b[0m\u001b[0m\n\u001b[1;32m----> 4\u001b[1;33m     \u001b[0mFaceMasker\u001b[0m\u001b[1;33m(\u001b[0m\u001b[0mface_path\u001b[0m\u001b[1;33m,\u001b[0m \u001b[0mmask_path\u001b[0m\u001b[1;33m,\u001b[0m\u001b[0maugmented_mask_path\u001b[0m\u001b[1;33m,\u001b[0m\u001b[0mcolor\u001b[0m\u001b[1;33m=\u001b[0m\u001b[0mcolor\u001b[0m\u001b[1;33m)\u001b[0m\u001b[1;33m.\u001b[0m\u001b[0mmask\u001b[0m\u001b[1;33m(\u001b[0m\u001b[1;33m)\u001b[0m\u001b[1;33m\u001b[0m\u001b[1;33m\u001b[0m\u001b[0m\n\u001b[0m",
      "\u001b[1;32m~\\AppData\\Local\\Temp\\ipykernel_8800\\2218354429.py\u001b[0m in \u001b[0;36mmask\u001b[1;34m(self)\u001b[0m\n\u001b[0;32m     13\u001b[0m \u001b[1;33m\u001b[0m\u001b[0m\n\u001b[0;32m     14\u001b[0m     \u001b[1;32mdef\u001b[0m \u001b[0mmask\u001b[0m\u001b[1;33m(\u001b[0m\u001b[0mself\u001b[0m\u001b[1;33m)\u001b[0m\u001b[1;33m:\u001b[0m\u001b[1;33m\u001b[0m\u001b[1;33m\u001b[0m\u001b[0m\n\u001b[1;32m---> 15\u001b[1;33m         \u001b[0mface_image_np\u001b[0m \u001b[1;33m=\u001b[0m \u001b[0mface_recognition\u001b[0m\u001b[1;33m.\u001b[0m\u001b[0mload_image_file\u001b[0m\u001b[1;33m(\u001b[0m\u001b[0mself\u001b[0m\u001b[1;33m.\u001b[0m\u001b[0mface_path\u001b[0m\u001b[1;33m)\u001b[0m\u001b[1;33m\u001b[0m\u001b[1;33m\u001b[0m\u001b[0m\n\u001b[0m\u001b[0;32m     16\u001b[0m         \u001b[0mface_locations\u001b[0m \u001b[1;33m=\u001b[0m \u001b[0mface_recognition\u001b[0m\u001b[1;33m.\u001b[0m\u001b[0mface_locations\u001b[0m\u001b[1;33m(\u001b[0m\u001b[0mface_image_np\u001b[0m\u001b[1;33m,\u001b[0m \u001b[0mmodel\u001b[0m\u001b[1;33m=\u001b[0m\u001b[0mself\u001b[0m\u001b[1;33m.\u001b[0m\u001b[0mmodel\u001b[0m\u001b[1;33m)\u001b[0m\u001b[1;33m\u001b[0m\u001b[1;33m\u001b[0m\u001b[0m\n\u001b[0;32m     17\u001b[0m         \u001b[0mface_landmarks\u001b[0m \u001b[1;33m=\u001b[0m \u001b[0mface_recognition\u001b[0m\u001b[1;33m.\u001b[0m\u001b[0mface_landmarks\u001b[0m\u001b[1;33m(\u001b[0m\u001b[0mface_image_np\u001b[0m\u001b[1;33m,\u001b[0m \u001b[0mface_locations\u001b[0m\u001b[1;33m)\u001b[0m\u001b[1;33m\u001b[0m\u001b[1;33m\u001b[0m\u001b[0m\n",
      "\u001b[1;32m~\\anaconda3\\envs\\Project_faceRec\\lib\\site-packages\\face_recognition\\api.py\u001b[0m in \u001b[0;36mload_image_file\u001b[1;34m(file, mode)\u001b[0m\n\u001b[0;32m     84\u001b[0m     \u001b[1;33m:\u001b[0m\u001b[1;32mreturn\u001b[0m\u001b[1;33m:\u001b[0m \u001b[0mimage\u001b[0m \u001b[0mcontents\u001b[0m \u001b[1;32mas\u001b[0m \u001b[0mnumpy\u001b[0m \u001b[0marray\u001b[0m\u001b[1;33m\u001b[0m\u001b[1;33m\u001b[0m\u001b[0m\n\u001b[0;32m     85\u001b[0m     \"\"\"\n\u001b[1;32m---> 86\u001b[1;33m     \u001b[0mim\u001b[0m \u001b[1;33m=\u001b[0m \u001b[0mPIL\u001b[0m\u001b[1;33m.\u001b[0m\u001b[0mImage\u001b[0m\u001b[1;33m.\u001b[0m\u001b[0mopen\u001b[0m\u001b[1;33m(\u001b[0m\u001b[0mfile\u001b[0m\u001b[1;33m)\u001b[0m\u001b[1;33m\u001b[0m\u001b[1;33m\u001b[0m\u001b[0m\n\u001b[0m\u001b[0;32m     87\u001b[0m     \u001b[1;32mif\u001b[0m \u001b[0mmode\u001b[0m\u001b[1;33m:\u001b[0m\u001b[1;33m\u001b[0m\u001b[1;33m\u001b[0m\u001b[0m\n\u001b[0;32m     88\u001b[0m         \u001b[0mim\u001b[0m \u001b[1;33m=\u001b[0m \u001b[0mim\u001b[0m\u001b[1;33m.\u001b[0m\u001b[0mconvert\u001b[0m\u001b[1;33m(\u001b[0m\u001b[0mmode\u001b[0m\u001b[1;33m)\u001b[0m\u001b[1;33m\u001b[0m\u001b[1;33m\u001b[0m\u001b[0m\n",
      "\u001b[1;32m~\\anaconda3\\envs\\Project_faceRec\\lib\\site-packages\\PIL\\Image.py\u001b[0m in \u001b[0;36mopen\u001b[1;34m(fp, mode, formats)\u001b[0m\n\u001b[0;32m   3090\u001b[0m \u001b[1;33m\u001b[0m\u001b[0m\n\u001b[0;32m   3091\u001b[0m     \u001b[1;32mif\u001b[0m \u001b[0mfilename\u001b[0m\u001b[1;33m:\u001b[0m\u001b[1;33m\u001b[0m\u001b[1;33m\u001b[0m\u001b[0m\n\u001b[1;32m-> 3092\u001b[1;33m         \u001b[0mfp\u001b[0m \u001b[1;33m=\u001b[0m \u001b[0mbuiltins\u001b[0m\u001b[1;33m.\u001b[0m\u001b[0mopen\u001b[0m\u001b[1;33m(\u001b[0m\u001b[0mfilename\u001b[0m\u001b[1;33m,\u001b[0m \u001b[1;34m\"rb\"\u001b[0m\u001b[1;33m)\u001b[0m\u001b[1;33m\u001b[0m\u001b[1;33m\u001b[0m\u001b[0m\n\u001b[0m\u001b[0;32m   3093\u001b[0m         \u001b[0mexclusive_fp\u001b[0m \u001b[1;33m=\u001b[0m \u001b[1;32mTrue\u001b[0m\u001b[1;33m\u001b[0m\u001b[1;33m\u001b[0m\u001b[0m\n\u001b[0;32m   3094\u001b[0m \u001b[1;33m\u001b[0m\u001b[0m\n",
      "\u001b[1;31mFileNotFoundError\u001b[0m: [Errno 2] No such file or directory: 'C:\\\\Users\\\\Coope\\\\Documents\\\\FacerecoProject\\\\Mask-Face-recog-Project\\\\dataset\\\\without_mask\\\\0.jpg'"
     ]
    }
   ],
   "source": [
    "for MASK_IMAGE_PATH in MASK_IMAGE_PATHS:\n",
    "    COLOR=MASK_IMAGE_PATH.split(\"\\\\\")[-1].split(\".\")[0]\n",
    "    FACE_IMAGE_PATHS=[os.getcwd()+\"\\\\dataset\\\\without_mask\\\\\"+path for path in listdir(FACE_FOLDER_PATH)]\n",
    "    for FACE_IMAGE_PATH in FACE_IMAGE_PATHS:\n",
    "        print(\"face image path: \",FACE_IMAGE_PATH)\n",
    "        create_mask(FACE_IMAGE_PATH,MASK_IMAGE_PATH ,AUGMENTED_MASK_PATH,COLOR)"
   ]
  }
 ],
 "metadata": {
  "kernelspec": {
   "display_name": "Python 3 (ipykernel)",
   "language": "python",
   "name": "python3"
  },
  "language_info": {
   "codemirror_mode": {
    "name": "ipython",
    "version": 3
   },
   "file_extension": ".py",
   "mimetype": "text/x-python",
   "name": "python",
   "nbconvert_exporter": "python",
   "pygments_lexer": "ipython3",
   "version": "3.9.13"
  }
 },
 "nbformat": 4,
 "nbformat_minor": 5
}
